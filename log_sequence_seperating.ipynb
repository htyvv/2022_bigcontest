{
 "cells": [
  {
   "cell_type": "code",
   "execution_count": 1,
   "metadata": {},
   "outputs": [
    {
     "name": "stdout",
     "output_type": "stream",
     "text": [
      "The autoreload extension is already loaded. To reload it, use:\n",
      "  %reload_ext autoreload\n"
     ]
    }
   ],
   "source": [
    "%load_ext autoreload\n",
    "%autoreload 2"
   ]
  },
  {
   "cell_type": "markdown",
   "metadata": {},
   "source": [
    "## Lib"
   ]
  },
  {
   "cell_type": "code",
   "execution_count": 2,
   "metadata": {},
   "outputs": [],
   "source": [
    "# Basic lib\n",
    "import pandas as pd\n",
    "import numpy as np\n",
    "import os\n",
    "import sys\n",
    "from collections import OrderedDict\n",
    "\n",
    "# Plot lib\n",
    "import matplotlib.pyplot as plt\n",
    "import matplotlib.dates as dates\n",
    "from matplotlib.patches import Rectangle"
   ]
  },
  {
   "cell_type": "markdown",
   "metadata": {},
   "source": [
    "## Load"
   ]
  },
  {
   "cell_type": "code",
   "execution_count": 3,
   "metadata": {},
   "outputs": [],
   "source": [
    "match_df = pd.read_feather('./data/match/ml_train_valid.fth')\n",
    "prep_log_df = pd.read_feather('./data/prep/prep_log.fth')"
   ]
  },
  {
   "cell_type": "markdown",
   "metadata": {},
   "source": [
    "## Peak Detection"
   ]
  },
  {
   "cell_type": "code",
   "execution_count": 4,
   "metadata": {},
   "outputs": [],
   "source": [
    "from scipy.signal import argrelextrema\n",
    "from tqdm import tqdm"
   ]
  },
  {
   "cell_type": "code",
   "execution_count": 5,
   "metadata": {},
   "outputs": [],
   "source": [
    "user_group_obj = prep_log_df.groupby('user_id')"
   ]
  },
  {
   "cell_type": "code",
   "execution_count": null,
   "metadata": {},
   "outputs": [],
   "source": [
    "is_plot = False"
   ]
  },
  {
   "cell_type": "code",
   "execution_count": 32,
   "metadata": {},
   "outputs": [
    {
     "name": "stderr",
     "output_type": "stream",
     "text": [
      "1it [00:01,  1.74s/it]"
     ]
    },
    {
     "data": {
      "image/png": "[encoded data removed]",
      "text/plain": [
       "<Figure size 432x288 with 1 Axes>"
      ]
     },
     "metadata": {
      "needs_background": "light"
     },
     "output_type": "display_data"
    },
    {
     "name": "stderr",
     "output_type": "stream",
     "text": [
      "41it [00:01, 22.37it/s]\n"
     ]
    }
   ],
   "source": [
    "user_seq_df_list = list()\n",
    "for idx, (user_id, user_log_df) in tqdm(enumerate(user_group_obj)):\n",
    "    \n",
    "    log_time_diff = np.diff(user_log_df.timestamp).astype('timedelta64[s]').astype(np.float64)\n",
    "    \n",
    "    c_max_index_arr = argrelextrema(\n",
    "        data=log_time_diff,\n",
    "        comparator=np.greater,\n",
    "        order=1\n",
    "        )\n",
    "    \n",
    "    if is_plot:\n",
    "        plt.plot(log_time_diff)\n",
    "        plt.scatter(c_max_index_arr[0],log_time_diff[c_max_index_arr[0]],linewidth=0.3, s=50, c='r')\n",
    "        plt.title(f\"User_id: {user_id} Log time stamp diff peak detection\")\n",
    "        plt.xlabel(\"diff index\")\n",
    "        plt.ylabel(\"timestamp diff (sec)\")\n",
    "        plt.show()\n",
    "    \n",
    "    # PD 기반 sequence 저장 \n",
    "    sequence_df_list = list()\n",
    "    for index, c_max_index in enumerate(c_max_index_arr[0]):\n",
    "        if index == len(c_max_index_arr[0]) - 1:\n",
    "            break\n",
    "        sequence_df = user_log_df[c_max_index+1:c_max_index_arr[0][index+1]+1]\n",
    "        sequence_df_list.append(sequence_df)\n",
    "\n",
    "    # 잘못 잘린 sequence 후처리\n",
    "    if len(sequence_df_list) == 0:\n",
    "        continue \n",
    "    \n",
    "    prev_sequence_df = sequence_df_list[0]\n",
    "    fixed_sequence_df_list = list()\n",
    "    for index, curr_sequence_df in enumerate(sequence_df_list[1:], 1):\n",
    "        first_event = curr_sequence_df.event.values[0]\n",
    "        if first_event == 'OpenApp':\n",
    "            fixed_sequence_df_list.append(curr_sequence_df)\n",
    "            prev_sequence_df = curr_sequence_df\n",
    "        else:\n",
    "            if len(fixed_sequence_df_list) == 0:\n",
    "                continue\n",
    "            curr_start_timestamp = curr_sequence_df.timestamp.iloc[0]\n",
    "            prev_end_timestamp = prev_sequence_df.timestamp.iloc[-1]\n",
    "            curr_prev_time_diff = (curr_start_timestamp - prev_end_timestamp)\n",
    "            merge_condition = abs(curr_prev_time_diff) <= pd.Timedelta(hours=1)\n",
    "            if merge_condition:\n",
    "                last_sequence_df = fixed_sequence_df_list.pop()\n",
    "                concated_sequence_df = pd.concat([last_sequence_df, curr_sequence_df])\n",
    "                fixed_sequence_df_list.append(concated_sequence_df)\n",
    "                \n",
    "    # 이상한 OpenApp 삭제\n",
    "    final_seq_df_list = []\n",
    "    for seq_df in fixed_sequence_df_list:\n",
    "        first_event = seq_df.event.values[0]\n",
    "        if first_event == \"OpenApp\":\n",
    "            final_seq_df_list.append(seq_df)\n",
    "    \n",
    "    if len(final_seq_df_list) != 0:\n",
    "        user_seq_df_list.append(final_seq_df_list)\n",
    "        \n",
    "    break"
   ]
  },
  {
   "cell_type": "code",
   "execution_count": 37,
   "metadata": {},
   "outputs": [
    {
     "data": {
      "text/html": [
       "<div>\n",
       "<style scoped>\n",
       "    .dataframe tbody tr th:only-of-type {\n",
       "        vertical-align: middle;\n",
       "    }\n",
       "\n",
       "    .dataframe tbody tr th {\n",
       "        vertical-align: top;\n",
       "    }\n",
       "\n",
       "    .dataframe thead th {\n",
       "        text-align: right;\n",
       "    }\n",
       "</style>\n",
       "<table border=\"1\" class=\"dataframe\">\n",
       "  <thead>\n",
       "    <tr style=\"text-align: right;\">\n",
       "      <th></th>\n",
       "      <th>user_id</th>\n",
       "      <th>event</th>\n",
       "      <th>timestamp</th>\n",
       "    </tr>\n",
       "  </thead>\n",
       "  <tbody>\n",
       "    <tr>\n",
       "      <th>9359739</th>\n",
       "      <td>71</td>\n",
       "      <td>OpenApp</td>\n",
       "      <td>2022-05-08 20:07:59</td>\n",
       "    </tr>\n",
       "    <tr>\n",
       "      <th>9359761</th>\n",
       "      <td>71</td>\n",
       "      <td>StartLoanApply</td>\n",
       "      <td>2022-05-08 20:08:11</td>\n",
       "    </tr>\n",
       "    <tr>\n",
       "      <th>9359762</th>\n",
       "      <td>71</td>\n",
       "      <td>ViewLoanApplyIntro</td>\n",
       "      <td>2022-05-08 20:08:11</td>\n",
       "    </tr>\n",
       "  </tbody>\n",
       "</table>\n",
       "</div>"
      ],
      "text/plain": [
       "         user_id               event           timestamp\n",
       "9359739       71             OpenApp 2022-05-08 20:07:59\n",
       "9359761       71      StartLoanApply 2022-05-08 20:08:11\n",
       "9359762       71  ViewLoanApplyIntro 2022-05-08 20:08:11"
      ]
     },
     "execution_count": 37,
     "metadata": {},
     "output_type": "execute_result"
    }
   ],
   "source": [
    "final_seq_df_list[0]"
   ]
  },
  {
   "cell_type": "code",
   "execution_count": 38,
   "metadata": {},
   "outputs": [
    {
     "data": {
      "text/html": [
       "<div>\n",
       "<style scoped>\n",
       "    .dataframe tbody tr th:only-of-type {\n",
       "        vertical-align: middle;\n",
       "    }\n",
       "\n",
       "    .dataframe tbody tr th {\n",
       "        vertical-align: top;\n",
       "    }\n",
       "\n",
       "    .dataframe thead th {\n",
       "        text-align: right;\n",
       "    }\n",
       "</style>\n",
       "<table border=\"1\" class=\"dataframe\">\n",
       "  <thead>\n",
       "    <tr style=\"text-align: right;\">\n",
       "      <th></th>\n",
       "      <th>user_id</th>\n",
       "      <th>event</th>\n",
       "      <th>timestamp</th>\n",
       "    </tr>\n",
       "  </thead>\n",
       "  <tbody>\n",
       "    <tr>\n",
       "      <th>11343004</th>\n",
       "      <td>71</td>\n",
       "      <td>OpenApp</td>\n",
       "      <td>2022-05-20 15:09:59</td>\n",
       "    </tr>\n",
       "    <tr>\n",
       "      <th>11343078</th>\n",
       "      <td>71</td>\n",
       "      <td>StartLoanApply</td>\n",
       "      <td>2022-05-20 15:10:25</td>\n",
       "    </tr>\n",
       "    <tr>\n",
       "      <th>11343081</th>\n",
       "      <td>71</td>\n",
       "      <td>ViewLoanApplyIntro</td>\n",
       "      <td>2022-05-20 15:10:25</td>\n",
       "    </tr>\n",
       "    <tr>\n",
       "      <th>11343159</th>\n",
       "      <td>71</td>\n",
       "      <td>CompleteIDCertification</td>\n",
       "      <td>2022-05-20 15:10:50</td>\n",
       "    </tr>\n",
       "    <tr>\n",
       "      <th>11343350</th>\n",
       "      <td>71</td>\n",
       "      <td>EndLoanApply</td>\n",
       "      <td>2022-05-20 15:11:58</td>\n",
       "    </tr>\n",
       "  </tbody>\n",
       "</table>\n",
       "</div>"
      ],
      "text/plain": [
       "          user_id                    event           timestamp\n",
       "11343004       71                  OpenApp 2022-05-20 15:09:59\n",
       "11343078       71           StartLoanApply 2022-05-20 15:10:25\n",
       "11343081       71       ViewLoanApplyIntro 2022-05-20 15:10:25\n",
       "11343159       71  CompleteIDCertification 2022-05-20 15:10:50\n",
       "11343350       71             EndLoanApply 2022-05-20 15:11:58"
      ]
     },
     "execution_count": 38,
     "metadata": {},
     "output_type": "execute_result"
    }
   ],
   "source": [
    "final_seq_df_list[1]"
   ]
  },
  {
   "cell_type": "code",
   "execution_count": 39,
   "metadata": {},
   "outputs": [
    {
     "data": {
      "text/html": [
       "<div>\n",
       "<style scoped>\n",
       "    .dataframe tbody tr th:only-of-type {\n",
       "        vertical-align: middle;\n",
       "    }\n",
       "\n",
       "    .dataframe tbody tr th {\n",
       "        vertical-align: top;\n",
       "    }\n",
       "\n",
       "    .dataframe thead th {\n",
       "        text-align: right;\n",
       "    }\n",
       "</style>\n",
       "<table border=\"1\" class=\"dataframe\">\n",
       "  <thead>\n",
       "    <tr style=\"text-align: right;\">\n",
       "      <th></th>\n",
       "      <th>user_id</th>\n",
       "      <th>event</th>\n",
       "      <th>timestamp</th>\n",
       "    </tr>\n",
       "  </thead>\n",
       "  <tbody>\n",
       "    <tr>\n",
       "      <th>13189887</th>\n",
       "      <td>71</td>\n",
       "      <td>OpenApp</td>\n",
       "      <td>2022-06-03 01:24:59</td>\n",
       "    </tr>\n",
       "    <tr>\n",
       "      <th>13189897</th>\n",
       "      <td>71</td>\n",
       "      <td>ViewLoanApplyIntro</td>\n",
       "      <td>2022-06-03 01:25:14</td>\n",
       "    </tr>\n",
       "    <tr>\n",
       "      <th>13189899</th>\n",
       "      <td>71</td>\n",
       "      <td>StartLoanApply</td>\n",
       "      <td>2022-06-03 01:25:14</td>\n",
       "    </tr>\n",
       "    <tr>\n",
       "      <th>13189922</th>\n",
       "      <td>71</td>\n",
       "      <td>CompleteIDCertification</td>\n",
       "      <td>2022-06-03 01:25:39</td>\n",
       "    </tr>\n",
       "    <tr>\n",
       "      <th>13189963</th>\n",
       "      <td>71</td>\n",
       "      <td>EndLoanApply</td>\n",
       "      <td>2022-06-03 01:26:41</td>\n",
       "    </tr>\n",
       "  </tbody>\n",
       "</table>\n",
       "</div>"
      ],
      "text/plain": [
       "          user_id                    event           timestamp\n",
       "13189887       71                  OpenApp 2022-06-03 01:24:59\n",
       "13189897       71       ViewLoanApplyIntro 2022-06-03 01:25:14\n",
       "13189899       71           StartLoanApply 2022-06-03 01:25:14\n",
       "13189922       71  CompleteIDCertification 2022-06-03 01:25:39\n",
       "13189963       71             EndLoanApply 2022-06-03 01:26:41"
      ]
     },
     "execution_count": 39,
     "metadata": {},
     "output_type": "execute_result"
    }
   ],
   "source": [
    "final_seq_df_list[2]"
   ]
  },
  {
   "cell_type": "code",
   "execution_count": 34,
   "metadata": {},
   "outputs": [
    {
     "data": {
      "text/html": [
       "<div>\n",
       "<style scoped>\n",
       "    .dataframe tbody tr th:only-of-type {\n",
       "        vertical-align: middle;\n",
       "    }\n",
       "\n",
       "    .dataframe tbody tr th {\n",
       "        vertical-align: top;\n",
       "    }\n",
       "\n",
       "    .dataframe thead th {\n",
       "        text-align: right;\n",
       "    }\n",
       "</style>\n",
       "<table border=\"1\" class=\"dataframe\">\n",
       "  <thead>\n",
       "    <tr style=\"text-align: right;\">\n",
       "      <th></th>\n",
       "      <th>user_id</th>\n",
       "      <th>event</th>\n",
       "      <th>timestamp</th>\n",
       "    </tr>\n",
       "  </thead>\n",
       "  <tbody>\n",
       "    <tr>\n",
       "      <th>9213000</th>\n",
       "      <td>71</td>\n",
       "      <td>ViewLoanApplyIntro</td>\n",
       "      <td>2022-05-06 20:57:00</td>\n",
       "    </tr>\n",
       "    <tr>\n",
       "      <th>9213001</th>\n",
       "      <td>71</td>\n",
       "      <td>StartLoanApply</td>\n",
       "      <td>2022-05-06 20:57:00</td>\n",
       "    </tr>\n",
       "    <tr>\n",
       "      <th>9213050</th>\n",
       "      <td>71</td>\n",
       "      <td>CompleteIDCertification</td>\n",
       "      <td>2022-05-06 20:57:43</td>\n",
       "    </tr>\n",
       "    <tr>\n",
       "      <th>9213241</th>\n",
       "      <td>71</td>\n",
       "      <td>EndLoanApply</td>\n",
       "      <td>2022-05-06 20:59:48</td>\n",
       "    </tr>\n",
       "    <tr>\n",
       "      <th>9220373</th>\n",
       "      <td>71</td>\n",
       "      <td>OpenApp</td>\n",
       "      <td>2022-05-06 22:21:20</td>\n",
       "    </tr>\n",
       "  </tbody>\n",
       "</table>\n",
       "</div>"
      ],
      "text/plain": [
       "         user_id                    event           timestamp\n",
       "9213000       71       ViewLoanApplyIntro 2022-05-06 20:57:00\n",
       "9213001       71           StartLoanApply 2022-05-06 20:57:00\n",
       "9213050       71  CompleteIDCertification 2022-05-06 20:57:43\n",
       "9213241       71             EndLoanApply 2022-05-06 20:59:48\n",
       "9220373       71                  OpenApp 2022-05-06 22:21:20"
      ]
     },
     "execution_count": 34,
     "metadata": {},
     "output_type": "execute_result"
    }
   ],
   "source": [
    "sequence_df_list[0]"
   ]
  },
  {
   "cell_type": "code",
   "execution_count": 35,
   "metadata": {},
   "outputs": [
    {
     "data": {
      "text/html": [
       "<div>\n",
       "<style scoped>\n",
       "    .dataframe tbody tr th:only-of-type {\n",
       "        vertical-align: middle;\n",
       "    }\n",
       "\n",
       "    .dataframe tbody tr th {\n",
       "        vertical-align: top;\n",
       "    }\n",
       "\n",
       "    .dataframe thead th {\n",
       "        text-align: right;\n",
       "    }\n",
       "</style>\n",
       "<table border=\"1\" class=\"dataframe\">\n",
       "  <thead>\n",
       "    <tr style=\"text-align: right;\">\n",
       "      <th></th>\n",
       "      <th>user_id</th>\n",
       "      <th>event</th>\n",
       "      <th>timestamp</th>\n",
       "    </tr>\n",
       "  </thead>\n",
       "  <tbody>\n",
       "    <tr>\n",
       "      <th>9359739</th>\n",
       "      <td>71</td>\n",
       "      <td>OpenApp</td>\n",
       "      <td>2022-05-08 20:07:59</td>\n",
       "    </tr>\n",
       "    <tr>\n",
       "      <th>9359761</th>\n",
       "      <td>71</td>\n",
       "      <td>StartLoanApply</td>\n",
       "      <td>2022-05-08 20:08:11</td>\n",
       "    </tr>\n",
       "    <tr>\n",
       "      <th>9359762</th>\n",
       "      <td>71</td>\n",
       "      <td>ViewLoanApplyIntro</td>\n",
       "      <td>2022-05-08 20:08:11</td>\n",
       "    </tr>\n",
       "  </tbody>\n",
       "</table>\n",
       "</div>"
      ],
      "text/plain": [
       "         user_id               event           timestamp\n",
       "9359739       71             OpenApp 2022-05-08 20:07:59\n",
       "9359761       71      StartLoanApply 2022-05-08 20:08:11\n",
       "9359762       71  ViewLoanApplyIntro 2022-05-08 20:08:11"
      ]
     },
     "execution_count": 35,
     "metadata": {},
     "output_type": "execute_result"
    }
   ],
   "source": [
    "sequence_df_list[1]"
   ]
  },
  {
   "cell_type": "code",
   "execution_count": 31,
   "metadata": {},
   "outputs": [],
   "source": [
    "import pickle\n",
    "with open(\"fixed_sequence.pkl\", \"wb\") as save_file:   #Pickling\n",
    "    pickle.dump(user_seq_df_list, save_file)"
   ]
  },
  {
   "cell_type": "code",
   "execution_count": 7,
   "metadata": {},
   "outputs": [],
   "source": [
    "user_seq_df_list = pd.read_pickle(\"fixed_sequence.pkl\")"
   ]
  },
  {
   "cell_type": "markdown",
   "metadata": {},
   "source": [
    "## 검증\n",
    "1. 최대길이확인\n",
    "2. OpenApp으로 시작하지 않는 sequence 존재하는지"
   ]
  },
  {
   "cell_type": "code",
   "execution_count": 8,
   "metadata": {},
   "outputs": [],
   "source": [
    "max_seq_len = 0\n",
    "total_seq_count = 0 \n",
    "for idx, seq_df_list in enumerate(user_seq_df_list):\n",
    "    user_id = seq_df_list[0].user_id.unique()[0]\n",
    "    \n",
    "    # 1. 최대 길이 저장\n",
    "    for seq_df in seq_df_list:\n",
    "        max_seq_len = len(seq_df) if len(seq_df) > max_seq_len else max_seq_len\n",
    "    \n",
    "    # 2. OpenApp으로 시작하지 않는 sequence 존재하는지 확인\n",
    "    for seq_idx, seq_df in enumerate(seq_df_list):\n",
    "        first_event = str(seq_df.event.iloc[0])\n",
    "        if first_event != 'OpenApp':\n",
    "            print(f'🚫 User#{user_id} : Seq#{seq_idx}')\n",
    "    \n",
    "    total_seq_count += len(seq_df_list)"
   ]
  },
  {
   "cell_type": "markdown",
   "metadata": {},
   "source": [
    "## 단순 통계치 확인"
   ]
  },
  {
   "cell_type": "code",
   "execution_count": 27,
   "metadata": {},
   "outputs": [
    {
     "name": "stderr",
     "output_type": "stream",
     "text": [
      "584636it [11:22, 856.07it/s]\n"
     ]
    }
   ],
   "source": [
    "user_event_series_list = []\n",
    "for idx, (user_id, user_log_df) in tqdm(enumerate(user_group_obj)):\n",
    "    a = user_log_df.event.value_counts()\n",
    "    b = pd.DataFrame(a).T.reset_index(drop=True)\n",
    "    b['user_id'] = user_id\n",
    "    user_event_series_list.append(b)"
   ]
  },
  {
   "cell_type": "code",
   "execution_count": 28,
   "metadata": {},
   "outputs": [],
   "source": [
    "total_df = pd.concat(user_event_series_list)"
   ]
  },
  {
   "cell_type": "code",
   "execution_count": 30,
   "metadata": {},
   "outputs": [
    {
     "data": {
      "text/html": [
       "<div>\n",
       "<style scoped>\n",
       "    .dataframe tbody tr th:only-of-type {\n",
       "        vertical-align: middle;\n",
       "    }\n",
       "\n",
       "    .dataframe tbody tr th {\n",
       "        vertical-align: top;\n",
       "    }\n",
       "\n",
       "    .dataframe thead th {\n",
       "        text-align: right;\n",
       "    }\n",
       "</style>\n",
       "<table border=\"1\" class=\"dataframe\">\n",
       "  <thead>\n",
       "    <tr style=\"text-align: right;\">\n",
       "      <th></th>\n",
       "      <th>GetCreditInfo</th>\n",
       "      <th>Login</th>\n",
       "      <th>UseLoanManage</th>\n",
       "      <th>CompleteIDCertification</th>\n",
       "      <th>EndLoanApply</th>\n",
       "      <th>OpenApp</th>\n",
       "      <th>SignUp</th>\n",
       "      <th>StartLoanApply</th>\n",
       "      <th>UseDSRCalc</th>\n",
       "      <th>UsePrepayCalc</th>\n",
       "      <th>ViewLoanApplyIntro</th>\n",
       "      <th>user_id</th>\n",
       "    </tr>\n",
       "  </thead>\n",
       "  <tbody>\n",
       "    <tr>\n",
       "      <th>0</th>\n",
       "      <td>3</td>\n",
       "      <td>1</td>\n",
       "      <td>1</td>\n",
       "      <td>0</td>\n",
       "      <td>0</td>\n",
       "      <td>0</td>\n",
       "      <td>0</td>\n",
       "      <td>0</td>\n",
       "      <td>0</td>\n",
       "      <td>0</td>\n",
       "      <td>0</td>\n",
       "      <td>1</td>\n",
       "    </tr>\n",
       "    <tr>\n",
       "      <th>0</th>\n",
       "      <td>1</td>\n",
       "      <td>0</td>\n",
       "      <td>0</td>\n",
       "      <td>0</td>\n",
       "      <td>0</td>\n",
       "      <td>0</td>\n",
       "      <td>0</td>\n",
       "      <td>0</td>\n",
       "      <td>0</td>\n",
       "      <td>0</td>\n",
       "      <td>0</td>\n",
       "      <td>7</td>\n",
       "    </tr>\n",
       "    <tr>\n",
       "      <th>0</th>\n",
       "      <td>3</td>\n",
       "      <td>0</td>\n",
       "      <td>0</td>\n",
       "      <td>0</td>\n",
       "      <td>0</td>\n",
       "      <td>0</td>\n",
       "      <td>0</td>\n",
       "      <td>0</td>\n",
       "      <td>0</td>\n",
       "      <td>0</td>\n",
       "      <td>0</td>\n",
       "      <td>9</td>\n",
       "    </tr>\n",
       "    <tr>\n",
       "      <th>0</th>\n",
       "      <td>8</td>\n",
       "      <td>0</td>\n",
       "      <td>9</td>\n",
       "      <td>4</td>\n",
       "      <td>7</td>\n",
       "      <td>5</td>\n",
       "      <td>0</td>\n",
       "      <td>4</td>\n",
       "      <td>0</td>\n",
       "      <td>1</td>\n",
       "      <td>5</td>\n",
       "      <td>11</td>\n",
       "    </tr>\n",
       "    <tr>\n",
       "      <th>0</th>\n",
       "      <td>5</td>\n",
       "      <td>15</td>\n",
       "      <td>1</td>\n",
       "      <td>15</td>\n",
       "      <td>39</td>\n",
       "      <td>15</td>\n",
       "      <td>0</td>\n",
       "      <td>15</td>\n",
       "      <td>0</td>\n",
       "      <td>0</td>\n",
       "      <td>15</td>\n",
       "      <td>12</td>\n",
       "    </tr>\n",
       "    <tr>\n",
       "      <th>...</th>\n",
       "      <td>...</td>\n",
       "      <td>...</td>\n",
       "      <td>...</td>\n",
       "      <td>...</td>\n",
       "      <td>...</td>\n",
       "      <td>...</td>\n",
       "      <td>...</td>\n",
       "      <td>...</td>\n",
       "      <td>...</td>\n",
       "      <td>...</td>\n",
       "      <td>...</td>\n",
       "      <td>...</td>\n",
       "    </tr>\n",
       "    <tr>\n",
       "      <th>0</th>\n",
       "      <td>2</td>\n",
       "      <td>0</td>\n",
       "      <td>5</td>\n",
       "      <td>6</td>\n",
       "      <td>12</td>\n",
       "      <td>9</td>\n",
       "      <td>0</td>\n",
       "      <td>17</td>\n",
       "      <td>0</td>\n",
       "      <td>0</td>\n",
       "      <td>10</td>\n",
       "      <td>879693</td>\n",
       "    </tr>\n",
       "    <tr>\n",
       "      <th>0</th>\n",
       "      <td>0</td>\n",
       "      <td>0</td>\n",
       "      <td>0</td>\n",
       "      <td>1</td>\n",
       "      <td>3</td>\n",
       "      <td>0</td>\n",
       "      <td>0</td>\n",
       "      <td>1</td>\n",
       "      <td>0</td>\n",
       "      <td>0</td>\n",
       "      <td>1</td>\n",
       "      <td>879694</td>\n",
       "    </tr>\n",
       "    <tr>\n",
       "      <th>0</th>\n",
       "      <td>0</td>\n",
       "      <td>0</td>\n",
       "      <td>0</td>\n",
       "      <td>1</td>\n",
       "      <td>1</td>\n",
       "      <td>0</td>\n",
       "      <td>0</td>\n",
       "      <td>1</td>\n",
       "      <td>0</td>\n",
       "      <td>0</td>\n",
       "      <td>1</td>\n",
       "      <td>879695</td>\n",
       "    </tr>\n",
       "    <tr>\n",
       "      <th>0</th>\n",
       "      <td>3</td>\n",
       "      <td>2</td>\n",
       "      <td>2</td>\n",
       "      <td>1</td>\n",
       "      <td>1</td>\n",
       "      <td>1</td>\n",
       "      <td>0</td>\n",
       "      <td>0</td>\n",
       "      <td>0</td>\n",
       "      <td>0</td>\n",
       "      <td>1</td>\n",
       "      <td>879696</td>\n",
       "    </tr>\n",
       "    <tr>\n",
       "      <th>0</th>\n",
       "      <td>0</td>\n",
       "      <td>0</td>\n",
       "      <td>0</td>\n",
       "      <td>0</td>\n",
       "      <td>0</td>\n",
       "      <td>1</td>\n",
       "      <td>0</td>\n",
       "      <td>1</td>\n",
       "      <td>0</td>\n",
       "      <td>0</td>\n",
       "      <td>1</td>\n",
       "      <td>879698</td>\n",
       "    </tr>\n",
       "  </tbody>\n",
       "</table>\n",
       "<p>584636 rows × 12 columns</p>\n",
       "</div>"
      ],
      "text/plain": [
       "    GetCreditInfo  Login  UseLoanManage  CompleteIDCertification  \\\n",
       "0               3      1              1                        0   \n",
       "0               1      0              0                        0   \n",
       "0               3      0              0                        0   \n",
       "0               8      0              9                        4   \n",
       "0               5     15              1                       15   \n",
       "..            ...    ...            ...                      ...   \n",
       "0               2      0              5                        6   \n",
       "0               0      0              0                        1   \n",
       "0               0      0              0                        1   \n",
       "0               3      2              2                        1   \n",
       "0               0      0              0                        0   \n",
       "\n",
       "    EndLoanApply  OpenApp  SignUp  StartLoanApply  UseDSRCalc  UsePrepayCalc  \\\n",
       "0              0        0       0               0           0              0   \n",
       "0              0        0       0               0           0              0   \n",
       "0              0        0       0               0           0              0   \n",
       "0              7        5       0               4           0              1   \n",
       "0             39       15       0              15           0              0   \n",
       "..           ...      ...     ...             ...         ...            ...   \n",
       "0             12        9       0              17           0              0   \n",
       "0              3        0       0               1           0              0   \n",
       "0              1        0       0               1           0              0   \n",
       "0              1        1       0               0           0              0   \n",
       "0              0        1       0               1           0              0   \n",
       "\n",
       "    ViewLoanApplyIntro  user_id  \n",
       "0                    0        1  \n",
       "0                    0        7  \n",
       "0                    0        9  \n",
       "0                    5       11  \n",
       "0                   15       12  \n",
       "..                 ...      ...  \n",
       "0                   10   879693  \n",
       "0                    1   879694  \n",
       "0                    1   879695  \n",
       "0                    1   879696  \n",
       "0                    1   879698  \n",
       "\n",
       "[584636 rows x 12 columns]"
      ]
     },
     "execution_count": 30,
     "metadata": {},
     "output_type": "execute_result"
    }
   ],
   "source": [
    "total_df"
   ]
  }
 ],
 "metadata": {
  "kernelspec": {
   "display_name": "Python 3.7.11 ('ale': conda)",
   "language": "python",
   "name": "python3"
  },
  "language_info": {
   "codemirror_mode": {
    "name": "ipython",
    "version": 3
   },
   "file_extension": ".py",
   "mimetype": "text/x-python",
   "name": "python",
   "nbconvert_exporter": "python",
   "pygments_lexer": "ipython3",
   "version": "3.7.11"
  },
  "orig_nbformat": 4,
  "vscode": {
   "interpreter": {
    "hash": "b7aed60652aeb20dddef953ad96c993afd4530cf89ac807a056c77251a26be2f"
   }
  }
 },
 "nbformat": 4,
 "nbformat_minor": 2
}
