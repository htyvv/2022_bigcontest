{
 "cells": [
  {
   "cell_type": "markdown",
   "metadata": {},
   "source": [
    "## Auto reload"
   ]
  },
  {
   "cell_type": "code",
   "execution_count": 1,
   "metadata": {},
   "outputs": [],
   "source": [
    "%load_ext autoreload\n",
    "%autoreload 2"
   ]
  },
  {
   "cell_type": "markdown",
   "metadata": {},
   "source": [
    "## LIB"
   ]
  },
  {
   "cell_type": "code",
   "execution_count": 4,
   "metadata": {},
   "outputs": [],
   "source": [
    "%reload_ext autoreload\n",
    "\n",
    "# Basic lib\n",
    "import pandas as pd\n",
    "import numpy as np\n",
    "import os\n",
    "import sys\n",
    "import matplotlib.pyplot as plt\n",
    "\n",
    "# config\n",
    "import yaml\n",
    "\n",
    "# Custom lib\n",
    "from src.loader import Loader\n",
    "from src.loan_preprocessor import Loan_Preprocessor\n",
    "from src.log_preprocessor import Log_Preprocessor\n",
    "from src.user_preprocessor import User_Preprocessor\n",
    "from src.cofix_preprocessor import Cofix_Preprocessor\n",
    "from src.matcher import Matcher\n",
    "from src.sampling import down_sampling, check_imbalanced_label, split_train_valid\n",
    "from src.mice import mice\n",
    "from src.bank import Bank_info\n",
    "from src.clustering import Clustering, GowerDistance, KPrototype\n",
    "from src.clustering_preprocessor import ClusteringPreprocessor\n",
    "from src.statistic_check import TTEST,ANOVA\n",
    "from sklearn.preprocessing import MinMaxScaler\n",
    "from src.eda import EDA, EDAPreprocessing\n",
    "\n",
    "# ignore warnings\n",
    "pd.set_option('mode.chained_assignment',  None)\n",
    "plt.style.use('ggplot')"
   ]
  },
  {
   "cell_type": "markdown",
   "metadata": {},
   "source": [
    "## Load Config"
   ]
  },
  {
   "cell_type": "code",
   "execution_count": 8,
   "metadata": {},
   "outputs": [],
   "source": [
    "with open(\"config.yaml\", 'r') as config_file:\n",
    "    config_dict = yaml.load(config_file, Loader=yaml.FullLoader)"
   ]
  },
  {
   "cell_type": "markdown",
   "metadata": {},
   "source": [
    "## Load Data"
   ]
  },
  {
   "cell_type": "code",
   "execution_count": 9,
   "metadata": {},
   "outputs": [],
   "source": [
    "loader_config = config_dict.get('Loader')"
   ]
  },
  {
   "cell_type": "code",
   "execution_count": 11,
   "metadata": {},
   "outputs": [],
   "source": [
    "loader_config = config_dict.get('Loader')\n",
    "loader = Loader(loader_config)\n",
    "loan_df = loader.run('loan_result.csv')\n",
    "log_df = loader.run('log_data.csv')\n",
    "user_df = loader.run('user_spec.csv')\n",
    "cofix_df = loader.run('cofix.csv')"
   ]
  },
  {
   "cell_type": "markdown",
   "metadata": {},
   "source": [
    "## Preprocess"
   ]
  },
  {
   "cell_type": "code",
   "execution_count": 6,
   "metadata": {},
   "outputs": [
    {
     "name": "stdout",
     "output_type": "stream",
     "text": [
      "필요 없는 열 삭제 중...\n",
      "datetime으로 바꾸는 중...\n",
      "결측치를 가지는 행 삭제 중...\n",
      "✅ prep dataset saved at (data/prep/prep_loan.fth)\n"
     ]
    }
   ],
   "source": [
    "prep_config = config_dict.get('Preprocessor')\n",
    "\n",
    "# Loan preprocess\n",
    "loan_preprocessor = Loan_Preprocessor(loan_df, prep_config)\n",
    "prep_loan_df = loan_preprocessor.run(\n",
    "    save_file_name='prep_loan.fth',\n",
    "    save_mode=True\n",
    "    )"
   ]
  },
  {
   "cell_type": "code",
   "execution_count": 7,
   "metadata": {},
   "outputs": [
    {
     "name": "stdout",
     "output_type": "stream",
     "text": [
      "필요 없는 열 삭제 중...\n",
      "datetime으로 바꾸는 중...\n",
      "카테고리화 시키는 중...\n",
      "시간축을 기준으로 정렬 중...\n",
      "✅ prep dataset saved at (data/prep/prep_log.fth)\n"
     ]
    }
   ],
   "source": [
    "# Log preprocess\n",
    "log_preprocessor = Log_Preprocessor(log_df, prep_config)\n",
    "prep_log_df = log_preprocessor.run(\n",
    "    save_file_name='prep_log.fth',\n",
    "    save_mode=True\n",
    ")"
   ]
  },
  {
   "cell_type": "code",
   "execution_count": 8,
   "metadata": {},
   "outputs": [
    {
     "name": "stdout",
     "output_type": "stream",
     "text": [
      "필요 없는 열 삭제 중...\n",
      "datetime으로 바꾸는 중...\n",
      "파생변수 생성 중...\n",
      "카테고리화 시키는 중...\n",
      "원핫인코딩 중...\n",
      "순서형인코딩 중...\n",
      "결측치를 가지는 행 삭제 중...\n",
      "✅ prep dataset saved at (data/prep/prep_user.fth)\n"
     ]
    }
   ],
   "source": [
    "# User preprocess\n",
    "user_preprocessor = User_Preprocessor(user_df, prep_config)\n",
    "prep_user_df = user_preprocessor.run(\n",
    "    save_file_name='prep_user.fth',\n",
    "    save_mode=True\n",
    ")"
   ]
  },
  {
   "cell_type": "code",
   "execution_count": 9,
   "metadata": {},
   "outputs": [
    {
     "name": "stdout",
     "output_type": "stream",
     "text": [
      "대상기간 열 나누는 중...\n",
      "datetime으로 바꾸는 중...\n",
      "시간축을 기준으로 정렬 중...\n",
      "COFIX 금리 열 이름 변경 중...\n",
      "✅ prep dataset saved at (data/prep/prep_cofix.fth)\n"
     ]
    }
   ],
   "source": [
    "# cofix preprocess\n",
    "cofix_preprocessor = Cofix_Preprocessor(cofix_df, prep_config)\n",
    "prep_cofix_df = cofix_preprocessor.run(\n",
    "    save_file_name='prep_cofix.fth',\n",
    "    save_mode=True\n",
    ")"
   ]
  },
  {
   "cell_type": "markdown",
   "metadata": {},
   "source": [
    "## Matcher"
   ]
  },
  {
   "cell_type": "code",
   "execution_count": null,
   "metadata": {},
   "outputs": [],
   "source": [
    "matcher_config = config_dict.get('Matcher')"
   ]
  },
  {
   "cell_type": "code",
   "execution_count": null,
   "metadata": {},
   "outputs": [],
   "source": [
    "matcher = Matcher(prep_user_df, prep_loan_df, prep_log_df, prep_cofix_df, matcher_config)"
   ]
  },
  {
   "cell_type": "code",
   "execution_count": null,
   "metadata": {},
   "outputs": [
    {
     "name": "stdout",
     "output_type": "stream",
     "text": [
      "Loan과 Cofix 매칭중...\n",
      "Loan_Cofix와 User를 merge중...\n",
      "Train(Valid)과 Test로 나누는 중...\n",
      "✅ matched dataset saved at (data/match/ml_train_valid.fth)\n",
      "✅ matched dataset saved at (data/match/ml_test.fth)\n"
     ]
    }
   ],
   "source": [
    "train_valid_df, test_df = matcher.run(save_mode=True)"
   ]
  },
  {
   "cell_type": "markdown",
   "metadata": {},
   "source": [
    "## MICE"
   ]
  },
  {
   "cell_type": "code",
   "execution_count": null,
   "metadata": {},
   "outputs": [],
   "source": [
    "# train\n",
    "mice_train = mice(train_valid_df)\n",
    "mice_train_df = mice_train.mice_1()"
   ]
  },
  {
   "cell_type": "code",
   "execution_count": null,
   "metadata": {},
   "outputs": [],
   "source": [
    "# test\n",
    "mice_test = mice(test_df)\n",
    "mice_test_df = mice_test.mice_1()"
   ]
  },
  {
   "cell_type": "code",
   "execution_count": null,
   "metadata": {},
   "outputs": [
    {
     "name": "stdout",
     "output_type": "stream",
     "text": [
      "(10264386, 53)\n",
      "(3255482, 53)\n"
     ]
    }
   ],
   "source": [
    "print(mice_train_df.shape)\n",
    "print(mice_test_df.shape)"
   ]
  },
  {
   "cell_type": "markdown",
   "metadata": {},
   "source": [
    "## Bank"
   ]
  },
  {
   "cell_type": "code",
   "execution_count": null,
   "metadata": {},
   "outputs": [],
   "source": [
    "bank_info = Bank_info(mice_train_df)\n",
    "final_train_df = bank_info.run()"
   ]
  },
  {
   "cell_type": "markdown",
   "metadata": {},
   "source": [
    "## Resampling & Modeling"
   ]
  },
  {
   "cell_type": "code",
   "execution_count": 76,
   "metadata": {},
   "outputs": [
    {
     "name": "stdout",
     "output_type": "stream",
     "text": [
      "✅ Sampling0\n",
      "Down Sampling 중...\n",
      "Train과 Valid로 나누는 중...\n"
     ]
    }
   ],
   "source": [
    "NUM_DOWN_SAMPLING = 30\n",
    "\n",
    "for sampling_idx in range(NUM_DOWN_SAMPLING):\n",
    "    \n",
    "    print(f'✅ Sampling #{sampling_idx}')\n",
    "    \n",
    "    # Resampling & split\n",
    "    downsampled_df = down_sampling(mice_train_df) # input을 mice_train_df 하면 될 것 같아요\n",
    "    train_X, train_Y, valid_X, valid_Y = split_train_valid(downsampled_df)\n",
    "    \n",
    "    # TODO: Modeling\n",
    "    from src.models.rf_model import RF\n",
    "    random_state = 42\n",
    "    rf = RF(train_X, train_Y, valid_X, valid_Y, random_state)\n",
    "    best_model = rf.grid_search()\n",
    "    # TODO : Model results storing (e.g. wandb, Dataframe...?)\n",
    "    # TODO : Voting (soft or hard voting)\n",
    "    \n",
    "    # del train_X, train_Y, valid_X, valid_Y # Free memory for long iterations\n",
    "    # break"
   ]
  },
  {
   "cell_type": "markdown",
   "metadata": {},
   "source": [
    "# 여기 이후로 불필요한 셀 정리 부탁드립니다"
   ]
  },
  {
   "cell_type": "markdown",
   "metadata": {},
   "source": [
    "## Modeling"
   ]
  },
  {
   "cell_type": "code",
   "execution_count": 88,
   "metadata": {},
   "outputs": [],
   "source": [
    "# base line\n",
    "# model_name : RF, XGB, LGBM, \n",
    "\n",
    "## 모델 서치 ##\n",
    "# from src.models import XGB\n",
    "# random_state = 42\n",
    "# xgb = XGB(train_X, train_Y, val_X, val_Y, test_X, test_Y, random_state)\n",
    "# best_model = xgb.grid_search()\n",
    "\n",
    "## test 결과 확인 및 모델 해석 ##\n",
    "# xgb.test_score(best_model)\n",
    "# xgb.confusion_matrix(best_model)\n",
    "# xgb.feature_importance(best_model)\n",
    "# xgb.shap(best_model)\n"
   ]
  },
  {
   "cell_type": "code",
   "execution_count": 5,
   "metadata": {},
   "outputs": [],
   "source": [
    "from src.models.rf_model import RF"
   ]
  },
  {
   "cell_type": "code",
   "execution_count": 1,
   "metadata": {},
   "outputs": [
    {
     "name": "stderr",
     "output_type": "stream",
     "text": [
      "/Users/hanjun/opt/anaconda3/envs/bigcon/lib/python3.9/site-packages/tqdm/auto.py:22: TqdmWarning: IProgress not found. Please update jupyter and ipywidgets. See https://ipywidgets.readthedocs.io/en/stable/user_install.html\n",
      "  from .autonotebook import tqdm as notebook_tqdm\n"
     ]
    }
   ],
   "source": [
    "from src.models.lgbm_model import LGBM"
   ]
  },
  {
   "cell_type": "code",
   "execution_count": 2,
   "metadata": {},
   "outputs": [],
   "source": [
    "from src.models.xgb_model import XGB"
   ]
  },
  {
   "cell_type": "code",
   "execution_count": 3,
   "metadata": {},
   "outputs": [],
   "source": [
    "from src.models.catboost import CB"
   ]
  },
  {
   "cell_type": "markdown",
   "metadata": {},
   "source": [
    "## Evaluation"
   ]
  },
  {
   "cell_type": "code",
   "execution_count": null,
   "metadata": {},
   "outputs": [],
   "source": []
  }
 ],
 "metadata": {
  "kernelspec": {
   "display_name": "Python 3.8.13 ('bigcon')",
   "language": "python",
   "name": "python3"
  },
  "language_info": {
   "codemirror_mode": {
    "name": "ipython",
    "version": 3
   },
   "file_extension": ".py",
   "mimetype": "text/x-python",
   "name": "python",
   "nbconvert_exporter": "python",
   "pygments_lexer": "ipython3",
   "version": "3.8.13"
  },
  "orig_nbformat": 4,
  "vscode": {
   "interpreter": {
    "hash": "4f5fe94cd9f08a65b342903d7204f00b28baaa64f54055d87c6f2a1611eeee68"
   }
  }
 },
 "nbformat": 4,
 "nbformat_minor": 2
}
