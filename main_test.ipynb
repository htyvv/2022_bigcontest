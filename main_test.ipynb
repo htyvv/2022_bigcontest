{
 "cells": [
  {
   "cell_type": "markdown",
   "metadata": {},
   "source": [
    "## Auto reload"
   ]
  },
  {
   "cell_type": "code",
   "execution_count": 1,
   "metadata": {},
   "outputs": [
    {
     "name": "stdout",
     "output_type": "stream",
     "text": [
      "The autoreload extension is already loaded. To reload it, use:\n",
      "  %reload_ext autoreload\n"
     ]
    }
   ],
   "source": [
    "%load_ext autoreload\n",
    "%autoreload 2"
   ]
  },
  {
   "cell_type": "markdown",
   "metadata": {},
   "source": [
    "## LIB"
   ]
  },
  {
   "cell_type": "code",
   "execution_count": 2,
   "metadata": {},
   "outputs": [],
   "source": [
    "%reload_ext autoreload\n",
    "\n",
    "# Basic lib\n",
    "import pandas as pd\n",
    "import numpy as np\n",
    "import os\n",
    "import sys\n",
    "\n",
    "# config\n",
    "import yaml\n",
    "\n",
    "# Custom lib\n",
    "from src.loader import Loader\n",
    "from src.loan_preprocessor import Loan_Preprocessor\n",
    "from src.log_preprocessor import Log_Preprocessor\n",
    "from src.user_preprocessor import User_Preprocessor\n",
    "from src.cofix_preprocessor import Cofix_Preprocessor\n",
    "from src.matcher import Matcher\n",
    "\n",
    "# ignore warnings\n",
    "pd.set_option('mode.chained_assignment',  None)"
   ]
  },
  {
   "cell_type": "markdown",
   "metadata": {},
   "source": [
    "## Load Config"
   ]
  },
  {
   "cell_type": "code",
   "execution_count": 3,
   "metadata": {},
   "outputs": [],
   "source": [
    "with open(\"config.yaml\", 'r') as config_file:\n",
    "    config_dict = yaml.load(config_file, Loader=yaml.FullLoader)"
   ]
  },
  {
   "cell_type": "markdown",
   "metadata": {},
   "source": [
    "## Load Data"
   ]
  },
  {
   "cell_type": "code",
   "execution_count": 4,
   "metadata": {},
   "outputs": [],
   "source": [
    "loader_config = config_dict.get('Loader')"
   ]
  },
  {
   "cell_type": "code",
   "execution_count": 5,
   "metadata": {},
   "outputs": [],
   "source": [
    "loader_config = config_dict.get('Loader')\n",
    "loader = Loader(loader_config)\n",
    "loan_df = loader.run('loan_result.csv')\n",
    "log_df = loader.run('log_data.csv')\n",
    "user_df = loader.run('user_spec.csv')\n",
    "cofix_df = loader.run('cofix.csv')"
   ]
  },
  {
   "cell_type": "markdown",
   "metadata": {},
   "source": [
    "## Preprocess"
   ]
  },
  {
   "cell_type": "code",
   "execution_count": 6,
   "metadata": {},
   "outputs": [
    {
     "name": "stdout",
     "output_type": "stream",
     "text": [
      "필요 없는 열 삭제 중...\n",
      "datetime으로 바꾸는 중...\n",
      "결측치를 가지는 행 삭제 중...\n",
      "✅ prep dataset saved at (data/prep/prep_loan.fth)\n"
     ]
    }
   ],
   "source": [
    "prep_config = config_dict.get('Preprocessor')\n",
    "\n",
    "# Loan preprocess\n",
    "loan_preprocessor = Loan_Preprocessor(loan_df, prep_config)\n",
    "prep_loan_df = loan_preprocessor.run(\n",
    "    save_file_name='prep_loan.fth',\n",
    "    save_mode=True\n",
    "    )"
   ]
  },
  {
   "cell_type": "code",
   "execution_count": 7,
   "metadata": {},
   "outputs": [
    {
     "name": "stdout",
     "output_type": "stream",
     "text": [
      "필요 없는 열 삭제 중...\n",
      "datetime으로 바꾸는 중...\n",
      "카테고리화 시키는 중...\n",
      "시간축을 기준으로 정렬 중...\n",
      "✅ prep dataset saved at (data/prep/prep_log.fth)\n"
     ]
    }
   ],
   "source": [
    "# Log preprocess\n",
    "log_preprocessor = Log_Preprocessor(log_df, prep_config)\n",
    "prep_log_df = log_preprocessor.run(\n",
    "    save_file_name='prep_log.fth',\n",
    "    save_mode=True\n",
    ")"
   ]
  },
  {
   "cell_type": "code",
   "execution_count": 11,
   "metadata": {},
   "outputs": [
    {
     "name": "stdout",
     "output_type": "stream",
     "text": [
      "대상기간 열 나누는 중...\n",
      "datetime으로 바꾸는 중...\n",
      "시간축을 기준으로 정렬 중...\n",
      "COFIX 금리 열 이름 변경 중...\n",
      "✅ prep dataset saved at (data/prep/prep_cofix.fth)\n"
     ]
    }
   ],
   "source": [
    "# cofix preprocess\n",
    "cofix_preprocessor = Cofix_Preprocessor(cofix_df, prep_config)\n",
    "prep_cofix_df = cofix_preprocessor.run(\n",
    "    save_file_name='prep_cofix.fth',\n",
    "    save_mode=True\n",
    ")"
   ]
  },
  {
   "cell_type": "markdown",
   "metadata": {},
   "source": [
    "## Matcher"
   ]
  },
  {
   "cell_type": "code",
   "execution_count": 13,
   "metadata": {},
   "outputs": [],
   "source": [
    "matcher_config = config_dict.get('Matcher')"
   ]
  },
  {
   "cell_type": "code",
   "execution_count": 14,
   "metadata": {},
   "outputs": [],
   "source": [
    "matcher = Matcher(prep_user_df, prep_loan_df, prep_log_df, prep_cofix_df, matcher_config)"
   ]
  },
  {
   "cell_type": "code",
   "execution_count": 14,
   "metadata": {},
   "outputs": [
    {
     "ename": "NameError",
     "evalue": "name 'matcher' is not defined",
     "output_type": "error",
     "traceback": [
      "\u001b[0;31m---------------------------------------------------------------------------\u001b[0m",
      "\u001b[0;31mNameError\u001b[0m                                 Traceback (most recent call last)",
      "\u001b[0;32m/tmp/ipykernel_32617/2505551331.py\u001b[0m in \u001b[0;36m<module>\u001b[0;34m\u001b[0m\n\u001b[0;32m----> 1\u001b[0;31m \u001b[0mtrain_valid_df\u001b[0m\u001b[0;34m,\u001b[0m \u001b[0mtest_df\u001b[0m \u001b[0;34m=\u001b[0m \u001b[0mmatcher\u001b[0m\u001b[0;34m.\u001b[0m\u001b[0mrun\u001b[0m\u001b[0;34m(\u001b[0m\u001b[0msave_mode\u001b[0m\u001b[0;34m=\u001b[0m\u001b[0;32mTrue\u001b[0m\u001b[0;34m)\u001b[0m\u001b[0;34m\u001b[0m\u001b[0;34m\u001b[0m\u001b[0m\n\u001b[0m",
      "\u001b[0;31mNameError\u001b[0m: name 'matcher' is not defined"
     ]
    }
   ],
   "source": [
    "train_valid_df, test_df = matcher.run(save_mode=True)"
   ]
  },
  {
   "cell_type": "code",
   "execution_count": 16,
   "metadata": {},
   "outputs": [],
   "source": [
    "from typing import Tuple\n",
    "\n",
    "def _make_down_sampling_fold(train_valid_df: pd.DataFrame) -> Tuple[pd.DataFrame, pd.DataFrame]:\n",
    "    print('Train(Valid) Down Sampling 중...')\n",
    "    X_train = train_valid_df.drop(columns=[self.label_col])\n",
    "    y_train = train_valid_df[self.label_col]\n",
    "    \n",
    "    train_fold_list = list()\n",
    "    for _ in tqdm(range(self.num_down_sampling)):\n",
    "        train_fold_list.append(\n",
    "            pd.concat(\n",
    "                resample(\n",
    "                    X_train, \n",
    "                    y_train,  \n",
    "                    replace=True\n",
    "                    ),\n",
    "                axis=1\n",
    "                ).reset_index(drop=True)\n",
    "            )\n",
    "    return train_fold_list"
   ]
  },
  {
   "cell_type": "markdown",
   "metadata": {},
   "source": [
    "## Mice"
   ]
  },
  {
   "cell_type": "code",
   "execution_count": null,
   "metadata": {},
   "outputs": [],
   "source": [
    "fixed_train_valid_df = Mice(train_valid_df)\n",
    "fixed_test_df = Mice(test_df)"
   ]
  },
  {
   "cell_type": "markdown",
   "metadata": {},
   "source": [
    "## Resampling & Modeling"
   ]
  },
  {
   "cell_type": "code",
   "execution_count": null,
   "metadata": {},
   "outputs": [],
   "source": [
    "final_train_valid_df = down_sampling(final_train_valid_df)"
   ]
  },
  {
   "cell_type": "markdown",
   "metadata": {},
   "source": [
    "final_train_valid_df -> [train:0.8, valid:0.2, y x까지 ]"
   ]
  },
  {
   "cell_type": "code",
   "execution_count": null,
   "metadata": {},
   "outputs": [],
   "source": [
    "for _ in range(30):\n",
    "    # Resampling\n",
    "    train_X, train_Y, valid_X, valid_Y = down_sampling(final_train_valid_df)\n",
    "    # Modeling\n",
    "    # TODO:"
   ]
  },
  {
   "cell_type": "markdown",
   "metadata": {},
   "source": [
    "## Voting"
   ]
  },
  {
   "cell_type": "code",
   "execution_count": null,
   "metadata": {},
   "outputs": [],
   "source": [
    "# TODO:\n",
    "# wandb.login()\n",
    "# wandb.log(f\"Accuracy : {acc}\")\n",
    "# wandb.log(fig_obj)"
   ]
  }
 ],
 "metadata": {
  "kernelspec": {
   "display_name": "Python 3.7.11 ('ale')",
   "language": "python",
   "name": "python3"
  },
  "language_info": {
   "codemirror_mode": {
    "name": "ipython",
    "version": 3
   },
   "file_extension": ".py",
   "mimetype": "text/x-python",
   "name": "python",
   "nbconvert_exporter": "python",
   "pygments_lexer": "ipython3",
   "version": "3.7.11"
  },
  "orig_nbformat": 4,
  "vscode": {
   "interpreter": {
    "hash": "b7aed60652aeb20dddef953ad96c993afd4530cf89ac807a056c77251a26be2f"
   }
  }
 },
 "nbformat": 4,
 "nbformat_minor": 2
}
