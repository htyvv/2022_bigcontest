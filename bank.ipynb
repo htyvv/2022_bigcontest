{
 "cells": [
  {
   "cell_type": "code",
   "execution_count": 126,
   "metadata": {},
   "outputs": [
    {
     "name": "stdout",
     "output_type": "stream",
     "text": [
      "The autoreload extension is already loaded. To reload it, use:\n",
      "  %reload_ext autoreload\n"
     ]
    }
   ],
   "source": [
    "%load_ext autoreload\n",
    "%autoreload 2"
   ]
  },
  {
   "cell_type": "markdown",
   "metadata": {},
   "source": [
    "## Lib"
   ]
  },
  {
   "cell_type": "code",
   "execution_count": 2,
   "metadata": {},
   "outputs": [],
   "source": [
    "# Basic lib\n",
    "import pandas as pd\n",
    "import numpy as np\n",
    "import os\n",
    "import sys\n",
    "\n",
    "# Plot lib\n",
    "import matplotlib.pyplot as plt\n",
    "import matplotlib.dates as dates\n",
    "from matplotlib.patches import Rectangle"
   ]
  },
  {
   "cell_type": "markdown",
   "metadata": {},
   "source": [
    "## Load"
   ]
  },
  {
   "cell_type": "code",
   "execution_count": 3,
   "metadata": {},
   "outputs": [],
   "source": [
    "# Before fill missing values with mice,\n",
    "# So drop rows that has missing(nan) value\n",
    "train_df = pd.read_feather('./data/match/ml_train_valid.fth').dropna()"
   ]
  },
  {
   "cell_type": "code",
   "execution_count": 4,
   "metadata": {},
   "outputs": [],
   "source": [
    "# Extract some cols that related to bank's info \n",
    "bank_cols = [\n",
    "    'bank_id',\n",
    "    'product_id',\n",
    "    'loan_rate',\n",
    "    'cofix_rate',\n",
    "    'credit_score',\n",
    "    'existing_loan_amt'\n",
    "    ]"
   ]
  },
  {
   "cell_type": "code",
   "execution_count": 5,
   "metadata": {},
   "outputs": [],
   "source": [
    "loan_bank_df = train_df[bank_cols]"
   ]
  },
  {
   "cell_type": "code",
   "execution_count": 6,
   "metadata": {},
   "outputs": [
    {
     "name": "stderr",
     "output_type": "stream",
     "text": [
      "/tmp/ipykernel_26377/2719267202.py:3: SettingWithCopyWarning: \n",
      "A value is trying to be set on a copy of a slice from a DataFrame.\n",
      "Try using .loc[row_indexer,col_indexer] = value instead\n",
      "\n",
      "See the caveats in the documentation: https://pandas.pydata.org/pandas-docs/stable/user_guide/indexing.html#returning-a-view-versus-a-copy\n",
      "  loan_bank_df['loan_rate_per_cofix_rate'] = loan_bank_df['loan_rate'] / loan_bank_df['cofix_rate']\n"
     ]
    }
   ],
   "source": [
    "# Define derived Variables ('loan_rate_per_cofix_rate' & 'loan_amt_per_credit_score')\n",
    "# There is no 'inf' value after this process\n",
    "loan_bank_df['loan_rate_per_cofix_rate'] = loan_bank_df['loan_rate'] / loan_bank_df['cofix_rate']\n",
    "#loan_bank_df['loan_amt_per_credit_score'] = loan_bank_df['existing_loan_amt'] / loan_bank_df['credit_score']"
   ]
  },
  {
   "cell_type": "code",
   "execution_count": 7,
   "metadata": {},
   "outputs": [
    {
     "data": {
      "text/html": [
       "<div>\n",
       "<style scoped>\n",
       "    .dataframe tbody tr th:only-of-type {\n",
       "        vertical-align: middle;\n",
       "    }\n",
       "\n",
       "    .dataframe tbody tr th {\n",
       "        vertical-align: top;\n",
       "    }\n",
       "\n",
       "    .dataframe thead th {\n",
       "        text-align: right;\n",
       "    }\n",
       "</style>\n",
       "<table border=\"1\" class=\"dataframe\">\n",
       "  <thead>\n",
       "    <tr style=\"text-align: right;\">\n",
       "      <th></th>\n",
       "      <th>bank_id</th>\n",
       "      <th>product_id</th>\n",
       "      <th>loan_rate</th>\n",
       "      <th>cofix_rate</th>\n",
       "      <th>credit_score</th>\n",
       "      <th>existing_loan_amt</th>\n",
       "      <th>loan_rate_per_cofix_rate</th>\n",
       "    </tr>\n",
       "  </thead>\n",
       "  <tbody>\n",
       "    <tr>\n",
       "      <th>18</th>\n",
       "      <td>10</td>\n",
       "      <td>149</td>\n",
       "      <td>16.2</td>\n",
       "      <td>1.57</td>\n",
       "      <td>560.0</td>\n",
       "      <td>28000000.0</td>\n",
       "      <td>10.318471</td>\n",
       "    </tr>\n",
       "    <tr>\n",
       "      <th>19</th>\n",
       "      <td>47</td>\n",
       "      <td>47</td>\n",
       "      <td>7.2</td>\n",
       "      <td>1.57</td>\n",
       "      <td>560.0</td>\n",
       "      <td>28000000.0</td>\n",
       "      <td>4.585987</td>\n",
       "    </tr>\n",
       "    <tr>\n",
       "      <th>20</th>\n",
       "      <td>59</td>\n",
       "      <td>251</td>\n",
       "      <td>7.4</td>\n",
       "      <td>1.57</td>\n",
       "      <td>560.0</td>\n",
       "      <td>28000000.0</td>\n",
       "      <td>4.713376</td>\n",
       "    </tr>\n",
       "    <tr>\n",
       "      <th>21</th>\n",
       "      <td>38</td>\n",
       "      <td>223</td>\n",
       "      <td>17.4</td>\n",
       "      <td>1.57</td>\n",
       "      <td>560.0</td>\n",
       "      <td>28000000.0</td>\n",
       "      <td>11.082803</td>\n",
       "    </tr>\n",
       "    <tr>\n",
       "      <th>22</th>\n",
       "      <td>38</td>\n",
       "      <td>16</td>\n",
       "      <td>17.4</td>\n",
       "      <td>1.57</td>\n",
       "      <td>560.0</td>\n",
       "      <td>28000000.0</td>\n",
       "      <td>11.082803</td>\n",
       "    </tr>\n",
       "    <tr>\n",
       "      <th>...</th>\n",
       "      <td>...</td>\n",
       "      <td>...</td>\n",
       "      <td>...</td>\n",
       "      <td>...</td>\n",
       "      <td>...</td>\n",
       "      <td>...</td>\n",
       "      <td>...</td>\n",
       "    </tr>\n",
       "    <tr>\n",
       "      <th>10264359</th>\n",
       "      <td>19</td>\n",
       "      <td>231</td>\n",
       "      <td>15.8</td>\n",
       "      <td>1.97</td>\n",
       "      <td>690.0</td>\n",
       "      <td>56000000.0</td>\n",
       "      <td>8.020305</td>\n",
       "    </tr>\n",
       "    <tr>\n",
       "      <th>10264360</th>\n",
       "      <td>1</td>\n",
       "      <td>61</td>\n",
       "      <td>10.4</td>\n",
       "      <td>1.97</td>\n",
       "      <td>690.0</td>\n",
       "      <td>56000000.0</td>\n",
       "      <td>5.279188</td>\n",
       "    </tr>\n",
       "    <tr>\n",
       "      <th>10264361</th>\n",
       "      <td>30</td>\n",
       "      <td>114</td>\n",
       "      <td>14.3</td>\n",
       "      <td>1.97</td>\n",
       "      <td>690.0</td>\n",
       "      <td>56000000.0</td>\n",
       "      <td>7.258883</td>\n",
       "    </tr>\n",
       "    <tr>\n",
       "      <th>10264362</th>\n",
       "      <td>51</td>\n",
       "      <td>247</td>\n",
       "      <td>13.8</td>\n",
       "      <td>1.97</td>\n",
       "      <td>690.0</td>\n",
       "      <td>56000000.0</td>\n",
       "      <td>7.005076</td>\n",
       "    </tr>\n",
       "    <tr>\n",
       "      <th>10264363</th>\n",
       "      <td>58</td>\n",
       "      <td>175</td>\n",
       "      <td>11.8</td>\n",
       "      <td>1.97</td>\n",
       "      <td>690.0</td>\n",
       "      <td>56000000.0</td>\n",
       "      <td>5.989848</td>\n",
       "    </tr>\n",
       "  </tbody>\n",
       "</table>\n",
       "<p>6912137 rows × 7 columns</p>\n",
       "</div>"
      ],
      "text/plain": [
       "          bank_id  product_id  loan_rate  cofix_rate  credit_score  \\\n",
       "18             10         149       16.2        1.57         560.0   \n",
       "19             47          47        7.2        1.57         560.0   \n",
       "20             59         251        7.4        1.57         560.0   \n",
       "21             38         223       17.4        1.57         560.0   \n",
       "22             38          16       17.4        1.57         560.0   \n",
       "...           ...         ...        ...         ...           ...   \n",
       "10264359       19         231       15.8        1.97         690.0   \n",
       "10264360        1          61       10.4        1.97         690.0   \n",
       "10264361       30         114       14.3        1.97         690.0   \n",
       "10264362       51         247       13.8        1.97         690.0   \n",
       "10264363       58         175       11.8        1.97         690.0   \n",
       "\n",
       "          existing_loan_amt  loan_rate_per_cofix_rate  \n",
       "18               28000000.0                 10.318471  \n",
       "19               28000000.0                  4.585987  \n",
       "20               28000000.0                  4.713376  \n",
       "21               28000000.0                 11.082803  \n",
       "22               28000000.0                 11.082803  \n",
       "...                     ...                       ...  \n",
       "10264359         56000000.0                  8.020305  \n",
       "10264360         56000000.0                  5.279188  \n",
       "10264361         56000000.0                  7.258883  \n",
       "10264362         56000000.0                  7.005076  \n",
       "10264363         56000000.0                  5.989848  \n",
       "\n",
       "[6912137 rows x 7 columns]"
      ]
     },
     "execution_count": 7,
     "metadata": {},
     "output_type": "execute_result"
    }
   ],
   "source": [
    "loan_bank_df"
   ]
  },
  {
   "cell_type": "code",
   "execution_count": 8,
   "metadata": {},
   "outputs": [],
   "source": [
    "bank_id_list = []\n",
    "num_applied_loan_list = []\n",
    "num_product_list = []\n",
    "avg_loan_rate_list = []\n",
    "avg_cofix_rate_list = []\n",
    "avg_credit_score_list = []\n",
    "avg_existing_loan_amt_list = []\n",
    "avg_loan_rate_per_cofix_rate_list = []\n",
    "for bank_id, bank_df in loan_bank_df.groupby('bank_id'):\n",
    "    bank_id_list.append(bank_id)\n",
    "    num_applied_loan_list.append(len(bank_df))\n",
    "    num_product_list.append(len(bank_df.product_id.unique()))\n",
    "    avg_loan_rate_list.append(bank_df.loan_rate.mean())\n",
    "    avg_cofix_rate_list.append(bank_df.cofix_rate.mean())\n",
    "    avg_credit_score_list.append(bank_df.credit_score.mean())\n",
    "    avg_existing_loan_amt_list.append(bank_df.existing_loan_amt.mean())\n",
    "    avg_loan_rate_per_cofix_rate_list.append(bank_df.loan_rate_per_cofix_rate.mean())"
   ]
  },
  {
   "cell_type": "code",
   "execution_count": 9,
   "metadata": {},
   "outputs": [],
   "source": [
    "bank_info_df = pd.DataFrame({\n",
    "    'bank_id': bank_id_list,\n",
    "    #'num_applied_loan': num_applied_loan_list,\n",
    "    # 'num_product': num_product_list,\n",
    "    'avg_loan_rate': avg_loan_rate_list,\n",
    "    'avg_cofix_rate': avg_cofix_rate_list,\n",
    "    'avg_credit_score': avg_credit_score_list,\n",
    "    'avg_existing_loan_amt': avg_existing_loan_amt_list,\n",
    "    'avg_loan_rate_per_cofix_rate': avg_loan_rate_per_cofix_rate_list,\n",
    "    }).astype(np.float64)"
   ]
  },
  {
   "cell_type": "code",
   "execution_count": 10,
   "metadata": {},
   "outputs": [
    {
     "data": {
      "text/html": [
       "<div>\n",
       "<style scoped>\n",
       "    .dataframe tbody tr th:only-of-type {\n",
       "        vertical-align: middle;\n",
       "    }\n",
       "\n",
       "    .dataframe tbody tr th {\n",
       "        vertical-align: top;\n",
       "    }\n",
       "\n",
       "    .dataframe thead th {\n",
       "        text-align: right;\n",
       "    }\n",
       "</style>\n",
       "<table border=\"1\" class=\"dataframe\">\n",
       "  <thead>\n",
       "    <tr style=\"text-align: right;\">\n",
       "      <th></th>\n",
       "      <th>bank_id</th>\n",
       "      <th>avg_loan_rate</th>\n",
       "      <th>avg_cofix_rate</th>\n",
       "      <th>avg_credit_score</th>\n",
       "      <th>avg_existing_loan_amt</th>\n",
       "      <th>avg_loan_rate_per_cofix_rate</th>\n",
       "    </tr>\n",
       "  </thead>\n",
       "  <tbody>\n",
       "    <tr>\n",
       "      <th>0</th>\n",
       "      <td>1.0</td>\n",
       "      <td>12.201402</td>\n",
       "      <td>1.664287</td>\n",
       "      <td>743.933257</td>\n",
       "      <td>8.683993e+07</td>\n",
       "      <td>7.380155</td>\n",
       "    </tr>\n",
       "    <tr>\n",
       "      <th>1</th>\n",
       "      <td>2.0</td>\n",
       "      <td>13.812103</td>\n",
       "      <td>1.833795</td>\n",
       "      <td>714.998620</td>\n",
       "      <td>7.118824e+07</td>\n",
       "      <td>7.541129</td>\n",
       "    </tr>\n",
       "    <tr>\n",
       "      <th>2</th>\n",
       "      <td>3.0</td>\n",
       "      <td>16.893236</td>\n",
       "      <td>1.670068</td>\n",
       "      <td>791.334890</td>\n",
       "      <td>9.035253e+07</td>\n",
       "      <td>10.168660</td>\n",
       "    </tr>\n",
       "    <tr>\n",
       "      <th>3</th>\n",
       "      <td>4.0</td>\n",
       "      <td>8.664303</td>\n",
       "      <td>1.734819</td>\n",
       "      <td>766.043331</td>\n",
       "      <td>7.442532e+07</td>\n",
       "      <td>5.014361</td>\n",
       "    </tr>\n",
       "    <tr>\n",
       "      <th>4</th>\n",
       "      <td>5.0</td>\n",
       "      <td>12.477371</td>\n",
       "      <td>1.653169</td>\n",
       "      <td>737.082047</td>\n",
       "      <td>9.252637e+07</td>\n",
       "      <td>7.590807</td>\n",
       "    </tr>\n",
       "    <tr>\n",
       "      <th>...</th>\n",
       "      <td>...</td>\n",
       "      <td>...</td>\n",
       "      <td>...</td>\n",
       "      <td>...</td>\n",
       "      <td>...</td>\n",
       "      <td>...</td>\n",
       "    </tr>\n",
       "    <tr>\n",
       "      <th>57</th>\n",
       "      <td>60.0</td>\n",
       "      <td>5.517200</td>\n",
       "      <td>1.660850</td>\n",
       "      <td>865.707609</td>\n",
       "      <td>8.008077e+07</td>\n",
       "      <td>3.341117</td>\n",
       "    </tr>\n",
       "    <tr>\n",
       "      <th>58</th>\n",
       "      <td>61.0</td>\n",
       "      <td>12.968332</td>\n",
       "      <td>1.670832</td>\n",
       "      <td>850.068579</td>\n",
       "      <td>9.623212e+07</td>\n",
       "      <td>7.828299</td>\n",
       "    </tr>\n",
       "    <tr>\n",
       "      <th>59</th>\n",
       "      <td>62.0</td>\n",
       "      <td>9.815609</td>\n",
       "      <td>1.668732</td>\n",
       "      <td>725.575838</td>\n",
       "      <td>8.949509e+07</td>\n",
       "      <td>5.915886</td>\n",
       "    </tr>\n",
       "    <tr>\n",
       "      <th>60</th>\n",
       "      <td>63.0</td>\n",
       "      <td>13.152220</td>\n",
       "      <td>1.670794</td>\n",
       "      <td>730.605173</td>\n",
       "      <td>7.432051e+07</td>\n",
       "      <td>7.913262</td>\n",
       "    </tr>\n",
       "    <tr>\n",
       "      <th>61</th>\n",
       "      <td>64.0</td>\n",
       "      <td>11.739213</td>\n",
       "      <td>1.681316</td>\n",
       "      <td>794.261365</td>\n",
       "      <td>6.241544e+07</td>\n",
       "      <td>7.017953</td>\n",
       "    </tr>\n",
       "  </tbody>\n",
       "</table>\n",
       "<p>62 rows × 6 columns</p>\n",
       "</div>"
      ],
      "text/plain": [
       "    bank_id  avg_loan_rate  avg_cofix_rate  avg_credit_score  \\\n",
       "0       1.0      12.201402        1.664287        743.933257   \n",
       "1       2.0      13.812103        1.833795        714.998620   \n",
       "2       3.0      16.893236        1.670068        791.334890   \n",
       "3       4.0       8.664303        1.734819        766.043331   \n",
       "4       5.0      12.477371        1.653169        737.082047   \n",
       "..      ...            ...             ...               ...   \n",
       "57     60.0       5.517200        1.660850        865.707609   \n",
       "58     61.0      12.968332        1.670832        850.068579   \n",
       "59     62.0       9.815609        1.668732        725.575838   \n",
       "60     63.0      13.152220        1.670794        730.605173   \n",
       "61     64.0      11.739213        1.681316        794.261365   \n",
       "\n",
       "    avg_existing_loan_amt  avg_loan_rate_per_cofix_rate  \n",
       "0            8.683993e+07                      7.380155  \n",
       "1            7.118824e+07                      7.541129  \n",
       "2            9.035253e+07                     10.168660  \n",
       "3            7.442532e+07                      5.014361  \n",
       "4            9.252637e+07                      7.590807  \n",
       "..                    ...                           ...  \n",
       "57           8.008077e+07                      3.341117  \n",
       "58           9.623212e+07                      7.828299  \n",
       "59           8.949509e+07                      5.915886  \n",
       "60           7.432051e+07                      7.913262  \n",
       "61           6.241544e+07                      7.017953  \n",
       "\n",
       "[62 rows x 6 columns]"
      ]
     },
     "execution_count": 10,
     "metadata": {},
     "output_type": "execute_result"
    }
   ],
   "source": [
    "bank_info_df"
   ]
  },
  {
   "cell_type": "code",
   "execution_count": 11,
   "metadata": {},
   "outputs": [
    {
     "ename": "AttributeError",
     "evalue": "'DataFrame' object has no attribute 'num_product'",
     "output_type": "error",
     "traceback": [
      "\u001b[0;31m---------------------------------------------------------------------------\u001b[0m",
      "\u001b[0;31mAttributeError\u001b[0m                            Traceback (most recent call last)",
      "\u001b[1;32m/home/gjxodud1/bigcontest/2022_bigcontest/bank.ipynb Cell 13\u001b[0m in \u001b[0;36m<cell line: 1>\u001b[0;34m()\u001b[0m\n\u001b[0;32m----> <a href='vscode-notebook-cell://ssh-remote%2B192.168.1.7/home/gjxodud1/bigcontest/2022_bigcontest/bank.ipynb#X15sdnNjb2RlLXJlbW90ZQ%3D%3D?line=0'>1</a>\u001b[0m bank_info_df\u001b[39m.\u001b[39;49mnum_product\u001b[39m.\u001b[39mhist()\n",
      "File \u001b[0;32m/home/user/anaconda3/envs/ts/lib/python3.8/site-packages/pandas/core/generic.py:5575\u001b[0m, in \u001b[0;36mNDFrame.__getattr__\u001b[0;34m(self, name)\u001b[0m\n\u001b[1;32m   5568\u001b[0m \u001b[39mif\u001b[39;00m (\n\u001b[1;32m   5569\u001b[0m     name \u001b[39mnot\u001b[39;00m \u001b[39min\u001b[39;00m \u001b[39mself\u001b[39m\u001b[39m.\u001b[39m_internal_names_set\n\u001b[1;32m   5570\u001b[0m     \u001b[39mand\u001b[39;00m name \u001b[39mnot\u001b[39;00m \u001b[39min\u001b[39;00m \u001b[39mself\u001b[39m\u001b[39m.\u001b[39m_metadata\n\u001b[1;32m   5571\u001b[0m     \u001b[39mand\u001b[39;00m name \u001b[39mnot\u001b[39;00m \u001b[39min\u001b[39;00m \u001b[39mself\u001b[39m\u001b[39m.\u001b[39m_accessors\n\u001b[1;32m   5572\u001b[0m     \u001b[39mand\u001b[39;00m \u001b[39mself\u001b[39m\u001b[39m.\u001b[39m_info_axis\u001b[39m.\u001b[39m_can_hold_identifiers_and_holds_name(name)\n\u001b[1;32m   5573\u001b[0m ):\n\u001b[1;32m   5574\u001b[0m     \u001b[39mreturn\u001b[39;00m \u001b[39mself\u001b[39m[name]\n\u001b[0;32m-> 5575\u001b[0m \u001b[39mreturn\u001b[39;00m \u001b[39mobject\u001b[39;49m\u001b[39m.\u001b[39;49m\u001b[39m__getattribute__\u001b[39;49m(\u001b[39mself\u001b[39;49m, name)\n",
      "\u001b[0;31mAttributeError\u001b[0m: 'DataFrame' object has no attribute 'num_product'"
     ]
    }
   ],
   "source": [
    "bank_info_df.num_product.hist()"
   ]
  },
  {
   "cell_type": "code",
   "execution_count": null,
   "metadata": {},
   "outputs": [
    {
     "data": {
      "text/plain": [
       "<AxesSubplot:>"
      ]
     },
     "execution_count": 22,
     "metadata": {},
     "output_type": "execute_result"
    },
    {
     "data": {
      "image/png": "[encoded data removed]",
      "text/plain": [
       "<Figure size 432x288 with 1 Axes>"
      ]
     },
     "metadata": {
      "needs_background": "light"
     },
     "output_type": "display_data"
    }
   ],
   "source": [
    "bank_info_df.avg_loan_rate.hist()"
   ]
  },
  {
   "cell_type": "code",
   "execution_count": null,
   "metadata": {},
   "outputs": [
    {
     "data": {
      "text/plain": [
       "<AxesSubplot:>"
      ]
     },
     "execution_count": 23,
     "metadata": {},
     "output_type": "execute_result"
    },
    {
     "data": {
      "image/png": "[encoded data removed]",
      "text/plain": [
       "<Figure size 432x288 with 1 Axes>"
      ]
     },
     "metadata": {
      "needs_background": "light"
     },
     "output_type": "display_data"
    }
   ],
   "source": [
    "bank_info_df.avg_cofix_rate.hist()"
   ]
  },
  {
   "cell_type": "code",
   "execution_count": null,
   "metadata": {},
   "outputs": [
    {
     "data": {
      "text/plain": [
       "<AxesSubplot:>"
      ]
     },
     "execution_count": 24,
     "metadata": {},
     "output_type": "execute_result"
    },
    {
     "data": {
      "image/png": "[encoded data removed]",
      "text/plain": [
       "<Figure size 432x288 with 1 Axes>"
      ]
     },
     "metadata": {
      "needs_background": "light"
     },
     "output_type": "display_data"
    }
   ],
   "source": [
    "bank_info_df.avg_credit_score.hist()"
   ]
  },
  {
   "cell_type": "code",
   "execution_count": null,
   "metadata": {},
   "outputs": [
    {
     "data": {
      "text/plain": [
       "<AxesSubplot:>"
      ]
     },
     "execution_count": 25,
     "metadata": {},
     "output_type": "execute_result"
    },
    {
     "data": {
      "image/png": "[encoded data removed]",
      "text/plain": [
       "<Figure size 432x288 with 1 Axes>"
      ]
     },
     "metadata": {
      "needs_background": "light"
     },
     "output_type": "display_data"
    }
   ],
   "source": [
    "bank_info_df.avg_existing_loan_amt.hist()"
   ]
  },
  {
   "cell_type": "code",
   "execution_count": null,
   "metadata": {},
   "outputs": [
    {
     "data": {
      "text/plain": [
       "<AxesSubplot:>"
      ]
     },
     "execution_count": 26,
     "metadata": {},
     "output_type": "execute_result"
    },
    {
     "data": {
      "image/png": "[encoded data removed]",
      "text/plain": [
       "<Figure size 432x288 with 1 Axes>"
      ]
     },
     "metadata": {
      "needs_background": "light"
     },
     "output_type": "display_data"
    }
   ],
   "source": [
    "bank_info_df.avg_loan_rate_per_cofix_rate.hist()"
   ]
  },
  {
   "cell_type": "code",
   "execution_count": 19,
   "metadata": {},
   "outputs": [],
   "source": [
    "from sklearn.preprocessing import MinMaxScaler\n",
    "scaled_features = MinMaxScaler().fit_transform(bank_info_df.values) # 이상치를 죽이기 위해서 MinMaxScaler 사용\n",
    "scaled_bank_info_df = pd.DataFrame(scaled_features, index=bank_info_df.index, columns=bank_info_df.columns)\n",
    "scaled_bank_info_df['bank_id'] = scaled_bank_info_df.index # bank_id 까지 스케일되어서 다시 인덱스화"
   ]
  },
  {
   "cell_type": "code",
   "execution_count": 20,
   "metadata": {},
   "outputs": [],
   "source": [
    "from sklearn.cluster import KMeans\n",
    "clusterer_input_df = scaled_bank_info_df.iloc[:,1:-1] # bank_id 제외하고 fit 하기 위함\n",
    "kmeans_clusterer = KMeans(n_clusters=3) # 제 1, 2, 3, 금융권으로 구분하는게 목표이기 때문\n",
    "kmeans_clusterer.fit(clusterer_input_df) \n",
    "cluster_labels = kmeans_clusterer.predict(clusterer_input_df)\n",
    "scaled_bank_info_df['label'] = cluster_labels"
   ]
  },
  {
   "cell_type": "code",
   "execution_count": 21,
   "metadata": {},
   "outputs": [
    {
     "data": {
      "text/html": [
       "<div>\n",
       "<style scoped>\n",
       "    .dataframe tbody tr th:only-of-type {\n",
       "        vertical-align: middle;\n",
       "    }\n",
       "\n",
       "    .dataframe tbody tr th {\n",
       "        vertical-align: top;\n",
       "    }\n",
       "\n",
       "    .dataframe thead th {\n",
       "        text-align: right;\n",
       "    }\n",
       "</style>\n",
       "<table border=\"1\" class=\"dataframe\">\n",
       "  <thead>\n",
       "    <tr style=\"text-align: right;\">\n",
       "      <th></th>\n",
       "      <th>bank_id</th>\n",
       "      <th>avg_loan_rate</th>\n",
       "      <th>avg_cofix_rate</th>\n",
       "      <th>avg_credit_score</th>\n",
       "      <th>avg_existing_loan_amt</th>\n",
       "      <th>avg_loan_rate_per_cofix_rate</th>\n",
       "      <th>label</th>\n",
       "    </tr>\n",
       "  </thead>\n",
       "  <tbody>\n",
       "    <tr>\n",
       "      <th>0</th>\n",
       "      <td>0</td>\n",
       "      <td>0.521620</td>\n",
       "      <td>0.301841</td>\n",
       "      <td>0.235682</td>\n",
       "      <td>0.467967</td>\n",
       "      <td>0.532297</td>\n",
       "      <td>0</td>\n",
       "    </tr>\n",
       "    <tr>\n",
       "      <th>1</th>\n",
       "      <td>1</td>\n",
       "      <td>0.639117</td>\n",
       "      <td>0.757678</td>\n",
       "      <td>0.122888</td>\n",
       "      <td>0.238229</td>\n",
       "      <td>0.551584</td>\n",
       "      <td>1</td>\n",
       "    </tr>\n",
       "    <tr>\n",
       "      <th>2</th>\n",
       "      <td>2</td>\n",
       "      <td>0.863880</td>\n",
       "      <td>0.317386</td>\n",
       "      <td>0.420466</td>\n",
       "      <td>0.519525</td>\n",
       "      <td>0.866389</td>\n",
       "      <td>0</td>\n",
       "    </tr>\n",
       "    <tr>\n",
       "      <th>3</th>\n",
       "      <td>3</td>\n",
       "      <td>0.263595</td>\n",
       "      <td>0.491514</td>\n",
       "      <td>0.321873</td>\n",
       "      <td>0.285743</td>\n",
       "      <td>0.248851</td>\n",
       "      <td>2</td>\n",
       "    </tr>\n",
       "    <tr>\n",
       "      <th>4</th>\n",
       "      <td>4</td>\n",
       "      <td>0.541751</td>\n",
       "      <td>0.271942</td>\n",
       "      <td>0.208975</td>\n",
       "      <td>0.551433</td>\n",
       "      <td>0.557536</td>\n",
       "      <td>0</td>\n",
       "    </tr>\n",
       "    <tr>\n",
       "      <th>...</th>\n",
       "      <td>...</td>\n",
       "      <td>...</td>\n",
       "      <td>...</td>\n",
       "      <td>...</td>\n",
       "      <td>...</td>\n",
       "      <td>...</td>\n",
       "      <td>...</td>\n",
       "    </tr>\n",
       "    <tr>\n",
       "      <th>57</th>\n",
       "      <td>57</td>\n",
       "      <td>0.034020</td>\n",
       "      <td>0.292597</td>\n",
       "      <td>0.710389</td>\n",
       "      <td>0.368755</td>\n",
       "      <td>0.048380</td>\n",
       "      <td>2</td>\n",
       "    </tr>\n",
       "    <tr>\n",
       "      <th>58</th>\n",
       "      <td>58</td>\n",
       "      <td>0.577566</td>\n",
       "      <td>0.319442</td>\n",
       "      <td>0.649425</td>\n",
       "      <td>0.605826</td>\n",
       "      <td>0.585990</td>\n",
       "      <td>0</td>\n",
       "    </tr>\n",
       "    <tr>\n",
       "      <th>59</th>\n",
       "      <td>59</td>\n",
       "      <td>0.347581</td>\n",
       "      <td>0.313793</td>\n",
       "      <td>0.164120</td>\n",
       "      <td>0.506939</td>\n",
       "      <td>0.356863</td>\n",
       "      <td>0</td>\n",
       "    </tr>\n",
       "    <tr>\n",
       "      <th>60</th>\n",
       "      <td>60</td>\n",
       "      <td>0.590980</td>\n",
       "      <td>0.319339</td>\n",
       "      <td>0.183726</td>\n",
       "      <td>0.284205</td>\n",
       "      <td>0.596169</td>\n",
       "      <td>1</td>\n",
       "    </tr>\n",
       "    <tr>\n",
       "      <th>61</th>\n",
       "      <td>61</td>\n",
       "      <td>0.487904</td>\n",
       "      <td>0.347633</td>\n",
       "      <td>0.431874</td>\n",
       "      <td>0.109461</td>\n",
       "      <td>0.488902</td>\n",
       "      <td>1</td>\n",
       "    </tr>\n",
       "  </tbody>\n",
       "</table>\n",
       "<p>62 rows × 7 columns</p>\n",
       "</div>"
      ],
      "text/plain": [
       "    bank_id  avg_loan_rate  avg_cofix_rate  avg_credit_score  \\\n",
       "0         0       0.521620        0.301841          0.235682   \n",
       "1         1       0.639117        0.757678          0.122888   \n",
       "2         2       0.863880        0.317386          0.420466   \n",
       "3         3       0.263595        0.491514          0.321873   \n",
       "4         4       0.541751        0.271942          0.208975   \n",
       "..      ...            ...             ...               ...   \n",
       "57       57       0.034020        0.292597          0.710389   \n",
       "58       58       0.577566        0.319442          0.649425   \n",
       "59       59       0.347581        0.313793          0.164120   \n",
       "60       60       0.590980        0.319339          0.183726   \n",
       "61       61       0.487904        0.347633          0.431874   \n",
       "\n",
       "    avg_existing_loan_amt  avg_loan_rate_per_cofix_rate  label  \n",
       "0                0.467967                      0.532297      0  \n",
       "1                0.238229                      0.551584      1  \n",
       "2                0.519525                      0.866389      0  \n",
       "3                0.285743                      0.248851      2  \n",
       "4                0.551433                      0.557536      0  \n",
       "..                    ...                           ...    ...  \n",
       "57               0.368755                      0.048380      2  \n",
       "58               0.605826                      0.585990      0  \n",
       "59               0.506939                      0.356863      0  \n",
       "60               0.284205                      0.596169      1  \n",
       "61               0.109461                      0.488902      1  \n",
       "\n",
       "[62 rows x 7 columns]"
      ]
     },
     "execution_count": 21,
     "metadata": {},
     "output_type": "execute_result"
    }
   ],
   "source": [
    "scaled_bank_info_df"
   ]
  },
  {
   "cell_type": "code",
   "execution_count": null,
   "metadata": {},
   "outputs": [],
   "source": []
  },
  {
   "cell_type": "code",
   "execution_count": 22,
   "metadata": {},
   "outputs": [],
   "source": [
    "from sklearn.decomposition import PCA\n",
    "pca_input_df = scaled_bank_info_df.iloc[:,1:-1] # bank_id와 label을 제외하고 pca 하기 위함\n",
    "# pca_input_df = bank_info_df.iloc[:,1:] # bank_id와 label을 제외하고 pca 하기 위함\n",
    "pca = PCA(n_components=2)\n",
    "printcipal_components = pca.fit_transform(pca_input_df)\n",
    "principal_df = pd.DataFrame(\n",
    "    data=printcipal_components,\n",
    "    columns = ['principal_component_1', 'principal_component_2']\n",
    "    )\n",
    "principal_df['label'] = cluster_labels"
   ]
  },
  {
   "cell_type": "code",
   "execution_count": 23,
   "metadata": {},
   "outputs": [
    {
     "ename": "KeyError",
     "evalue": "'p_component_1'",
     "output_type": "error",
     "traceback": [
      "\u001b[0;31m---------------------------------------------------------------------------\u001b[0m",
      "\u001b[0;31mKeyError\u001b[0m                                  Traceback (most recent call last)",
      "File \u001b[0;32m/home/user/anaconda3/envs/ts/lib/python3.8/site-packages/pandas/core/indexes/base.py:3621\u001b[0m, in \u001b[0;36mIndex.get_loc\u001b[0;34m(self, key, method, tolerance)\u001b[0m\n\u001b[1;32m   3620\u001b[0m \u001b[39mtry\u001b[39;00m:\n\u001b[0;32m-> 3621\u001b[0m     \u001b[39mreturn\u001b[39;00m \u001b[39mself\u001b[39;49m\u001b[39m.\u001b[39;49m_engine\u001b[39m.\u001b[39;49mget_loc(casted_key)\n\u001b[1;32m   3622\u001b[0m \u001b[39mexcept\u001b[39;00m \u001b[39mKeyError\u001b[39;00m \u001b[39mas\u001b[39;00m err:\n",
      "File \u001b[0;32m/home/user/anaconda3/envs/ts/lib/python3.8/site-packages/pandas/_libs/index.pyx:136\u001b[0m, in \u001b[0;36mpandas._libs.index.IndexEngine.get_loc\u001b[0;34m()\u001b[0m\n",
      "File \u001b[0;32m/home/user/anaconda3/envs/ts/lib/python3.8/site-packages/pandas/_libs/index.pyx:163\u001b[0m, in \u001b[0;36mpandas._libs.index.IndexEngine.get_loc\u001b[0;34m()\u001b[0m\n",
      "File \u001b[0;32mpandas/_libs/hashtable_class_helper.pxi:5198\u001b[0m, in \u001b[0;36mpandas._libs.hashtable.PyObjectHashTable.get_item\u001b[0;34m()\u001b[0m\n",
      "File \u001b[0;32mpandas/_libs/hashtable_class_helper.pxi:5206\u001b[0m, in \u001b[0;36mpandas._libs.hashtable.PyObjectHashTable.get_item\u001b[0;34m()\u001b[0m\n",
      "\u001b[0;31mKeyError\u001b[0m: 'p_component_1'",
      "\nThe above exception was the direct cause of the following exception:\n",
      "\u001b[0;31mKeyError\u001b[0m                                  Traceback (most recent call last)",
      "\u001b[1;32m/home/gjxodud1/bigcontest/2022_bigcontest/bank.ipynb Cell 24\u001b[0m in \u001b[0;36m<cell line: 11>\u001b[0;34m()\u001b[0m\n\u001b[1;32m     <a href='vscode-notebook-cell://ssh-remote%2B192.168.1.7/home/gjxodud1/bigcontest/2022_bigcontest/bank.ipynb#X32sdnNjb2RlLXJlbW90ZQ%3D%3D?line=10'>11</a>\u001b[0m \u001b[39mfor\u001b[39;00m label, color \u001b[39min\u001b[39;00m \u001b[39mzip\u001b[39m(labels, colors):\n\u001b[1;32m     <a href='vscode-notebook-cell://ssh-remote%2B192.168.1.7/home/gjxodud1/bigcontest/2022_bigcontest/bank.ipynb#X32sdnNjb2RlLXJlbW90ZQ%3D%3D?line=11'>12</a>\u001b[0m     label_idx \u001b[39m=\u001b[39m scaled_bank_info_df[\u001b[39m'\u001b[39m\u001b[39mlabel\u001b[39m\u001b[39m'\u001b[39m] \u001b[39m==\u001b[39m label\n\u001b[1;32m     <a href='vscode-notebook-cell://ssh-remote%2B192.168.1.7/home/gjxodud1/bigcontest/2022_bigcontest/bank.ipynb#X32sdnNjb2RlLXJlbW90ZQ%3D%3D?line=12'>13</a>\u001b[0m     ax\u001b[39m.\u001b[39mscatter(\n\u001b[0;32m---> <a href='vscode-notebook-cell://ssh-remote%2B192.168.1.7/home/gjxodud1/bigcontest/2022_bigcontest/bank.ipynb#X32sdnNjb2RlLXJlbW90ZQ%3D%3D?line=13'>14</a>\u001b[0m         principal_df\u001b[39m.\u001b[39;49mloc[label_idx, \u001b[39m'\u001b[39;49m\u001b[39mp_component_1\u001b[39;49m\u001b[39m'\u001b[39;49m],\n\u001b[1;32m     <a href='vscode-notebook-cell://ssh-remote%2B192.168.1.7/home/gjxodud1/bigcontest/2022_bigcontest/bank.ipynb#X32sdnNjb2RlLXJlbW90ZQ%3D%3D?line=14'>15</a>\u001b[0m         principal_df\u001b[39m.\u001b[39mloc[label_idx, \u001b[39m'\u001b[39m\u001b[39mp_component_2\u001b[39m\u001b[39m'\u001b[39m],\n\u001b[1;32m     <a href='vscode-notebook-cell://ssh-remote%2B192.168.1.7/home/gjxodud1/bigcontest/2022_bigcontest/bank.ipynb#X32sdnNjb2RlLXJlbW90ZQ%3D%3D?line=15'>16</a>\u001b[0m         c \u001b[39m=\u001b[39m color,\n\u001b[1;32m     <a href='vscode-notebook-cell://ssh-remote%2B192.168.1.7/home/gjxodud1/bigcontest/2022_bigcontest/bank.ipynb#X32sdnNjb2RlLXJlbW90ZQ%3D%3D?line=16'>17</a>\u001b[0m         s \u001b[39m=\u001b[39m \u001b[39m50\u001b[39m\n\u001b[1;32m     <a href='vscode-notebook-cell://ssh-remote%2B192.168.1.7/home/gjxodud1/bigcontest/2022_bigcontest/bank.ipynb#X32sdnNjb2RlLXJlbW90ZQ%3D%3D?line=17'>18</a>\u001b[0m         )\n\u001b[1;32m     <a href='vscode-notebook-cell://ssh-remote%2B192.168.1.7/home/gjxodud1/bigcontest/2022_bigcontest/bank.ipynb#X32sdnNjb2RlLXJlbW90ZQ%3D%3D?line=18'>19</a>\u001b[0m ax\u001b[39m.\u001b[39mlegend(labels)\n\u001b[1;32m     <a href='vscode-notebook-cell://ssh-remote%2B192.168.1.7/home/gjxodud1/bigcontest/2022_bigcontest/bank.ipynb#X32sdnNjb2RlLXJlbW90ZQ%3D%3D?line=19'>20</a>\u001b[0m ax\u001b[39m.\u001b[39mgrid()\n",
      "File \u001b[0;32m/home/user/anaconda3/envs/ts/lib/python3.8/site-packages/pandas/core/indexing.py:961\u001b[0m, in \u001b[0;36m_LocationIndexer.__getitem__\u001b[0;34m(self, key)\u001b[0m\n\u001b[1;32m    959\u001b[0m     \u001b[39mif\u001b[39;00m \u001b[39mself\u001b[39m\u001b[39m.\u001b[39m_is_scalar_access(key):\n\u001b[1;32m    960\u001b[0m         \u001b[39mreturn\u001b[39;00m \u001b[39mself\u001b[39m\u001b[39m.\u001b[39mobj\u001b[39m.\u001b[39m_get_value(\u001b[39m*\u001b[39mkey, takeable\u001b[39m=\u001b[39m\u001b[39mself\u001b[39m\u001b[39m.\u001b[39m_takeable)\n\u001b[0;32m--> 961\u001b[0m     \u001b[39mreturn\u001b[39;00m \u001b[39mself\u001b[39;49m\u001b[39m.\u001b[39;49m_getitem_tuple(key)\n\u001b[1;32m    962\u001b[0m \u001b[39melse\u001b[39;00m:\n\u001b[1;32m    963\u001b[0m     \u001b[39m# we by definition only have the 0th axis\u001b[39;00m\n\u001b[1;32m    964\u001b[0m     axis \u001b[39m=\u001b[39m \u001b[39mself\u001b[39m\u001b[39m.\u001b[39maxis \u001b[39mor\u001b[39;00m \u001b[39m0\u001b[39m\n",
      "File \u001b[0;32m/home/user/anaconda3/envs/ts/lib/python3.8/site-packages/pandas/core/indexing.py:1140\u001b[0m, in \u001b[0;36m_LocIndexer._getitem_tuple\u001b[0;34m(self, tup)\u001b[0m\n\u001b[1;32m   1138\u001b[0m \u001b[39mwith\u001b[39;00m suppress(IndexingError):\n\u001b[1;32m   1139\u001b[0m     tup \u001b[39m=\u001b[39m \u001b[39mself\u001b[39m\u001b[39m.\u001b[39m_expand_ellipsis(tup)\n\u001b[0;32m-> 1140\u001b[0m     \u001b[39mreturn\u001b[39;00m \u001b[39mself\u001b[39;49m\u001b[39m.\u001b[39;49m_getitem_lowerdim(tup)\n\u001b[1;32m   1142\u001b[0m \u001b[39m# no multi-index, so validate all of the indexers\u001b[39;00m\n\u001b[1;32m   1143\u001b[0m tup \u001b[39m=\u001b[39m \u001b[39mself\u001b[39m\u001b[39m.\u001b[39m_validate_tuple_indexer(tup)\n",
      "File \u001b[0;32m/home/user/anaconda3/envs/ts/lib/python3.8/site-packages/pandas/core/indexing.py:867\u001b[0m, in \u001b[0;36m_LocationIndexer._getitem_lowerdim\u001b[0;34m(self, tup)\u001b[0m\n\u001b[1;32m    863\u001b[0m \u001b[39mfor\u001b[39;00m i, key \u001b[39min\u001b[39;00m \u001b[39menumerate\u001b[39m(tup):\n\u001b[1;32m    864\u001b[0m     \u001b[39mif\u001b[39;00m is_label_like(key):\n\u001b[1;32m    865\u001b[0m         \u001b[39m# We don't need to check for tuples here because those are\u001b[39;00m\n\u001b[1;32m    866\u001b[0m         \u001b[39m#  caught by the _is_nested_tuple_indexer check above.\u001b[39;00m\n\u001b[0;32m--> 867\u001b[0m         section \u001b[39m=\u001b[39m \u001b[39mself\u001b[39;49m\u001b[39m.\u001b[39;49m_getitem_axis(key, axis\u001b[39m=\u001b[39;49mi)\n\u001b[1;32m    869\u001b[0m         \u001b[39m# We should never have a scalar section here, because\u001b[39;00m\n\u001b[1;32m    870\u001b[0m         \u001b[39m#  _getitem_lowerdim is only called after a check for\u001b[39;00m\n\u001b[1;32m    871\u001b[0m         \u001b[39m#  is_scalar_access, which that would be.\u001b[39;00m\n\u001b[1;32m    872\u001b[0m         \u001b[39mif\u001b[39;00m section\u001b[39m.\u001b[39mndim \u001b[39m==\u001b[39m \u001b[39mself\u001b[39m\u001b[39m.\u001b[39mndim:\n\u001b[1;32m    873\u001b[0m             \u001b[39m# we're in the middle of slicing through a MultiIndex\u001b[39;00m\n\u001b[1;32m    874\u001b[0m             \u001b[39m# revise the key wrt to `section` by inserting an _NS\u001b[39;00m\n",
      "File \u001b[0;32m/home/user/anaconda3/envs/ts/lib/python3.8/site-packages/pandas/core/indexing.py:1202\u001b[0m, in \u001b[0;36m_LocIndexer._getitem_axis\u001b[0;34m(self, key, axis)\u001b[0m\n\u001b[1;32m   1200\u001b[0m \u001b[39m# fall thru to straight lookup\u001b[39;00m\n\u001b[1;32m   1201\u001b[0m \u001b[39mself\u001b[39m\u001b[39m.\u001b[39m_validate_key(key, axis)\n\u001b[0;32m-> 1202\u001b[0m \u001b[39mreturn\u001b[39;00m \u001b[39mself\u001b[39;49m\u001b[39m.\u001b[39;49m_get_label(key, axis\u001b[39m=\u001b[39;49maxis)\n",
      "File \u001b[0;32m/home/user/anaconda3/envs/ts/lib/python3.8/site-packages/pandas/core/indexing.py:1153\u001b[0m, in \u001b[0;36m_LocIndexer._get_label\u001b[0;34m(self, label, axis)\u001b[0m\n\u001b[1;32m   1151\u001b[0m \u001b[39mdef\u001b[39;00m \u001b[39m_get_label\u001b[39m(\u001b[39mself\u001b[39m, label, axis: \u001b[39mint\u001b[39m):\n\u001b[1;32m   1152\u001b[0m     \u001b[39m# GH#5667 this will fail if the label is not present in the axis.\u001b[39;00m\n\u001b[0;32m-> 1153\u001b[0m     \u001b[39mreturn\u001b[39;00m \u001b[39mself\u001b[39;49m\u001b[39m.\u001b[39;49mobj\u001b[39m.\u001b[39;49mxs(label, axis\u001b[39m=\u001b[39;49maxis)\n",
      "File \u001b[0;32m/home/user/anaconda3/envs/ts/lib/python3.8/site-packages/pandas/core/generic.py:3849\u001b[0m, in \u001b[0;36mNDFrame.xs\u001b[0;34m(self, key, axis, level, drop_level)\u001b[0m\n\u001b[1;32m   3847\u001b[0m \u001b[39mif\u001b[39;00m axis \u001b[39m==\u001b[39m \u001b[39m1\u001b[39m:\n\u001b[1;32m   3848\u001b[0m     \u001b[39mif\u001b[39;00m drop_level:\n\u001b[0;32m-> 3849\u001b[0m         \u001b[39mreturn\u001b[39;00m \u001b[39mself\u001b[39;49m[key]\n\u001b[1;32m   3850\u001b[0m     index \u001b[39m=\u001b[39m \u001b[39mself\u001b[39m\u001b[39m.\u001b[39mcolumns\n\u001b[1;32m   3851\u001b[0m \u001b[39melse\u001b[39;00m:\n",
      "File \u001b[0;32m/home/user/anaconda3/envs/ts/lib/python3.8/site-packages/pandas/core/frame.py:3505\u001b[0m, in \u001b[0;36mDataFrame.__getitem__\u001b[0;34m(self, key)\u001b[0m\n\u001b[1;32m   3503\u001b[0m \u001b[39mif\u001b[39;00m \u001b[39mself\u001b[39m\u001b[39m.\u001b[39mcolumns\u001b[39m.\u001b[39mnlevels \u001b[39m>\u001b[39m \u001b[39m1\u001b[39m:\n\u001b[1;32m   3504\u001b[0m     \u001b[39mreturn\u001b[39;00m \u001b[39mself\u001b[39m\u001b[39m.\u001b[39m_getitem_multilevel(key)\n\u001b[0;32m-> 3505\u001b[0m indexer \u001b[39m=\u001b[39m \u001b[39mself\u001b[39;49m\u001b[39m.\u001b[39;49mcolumns\u001b[39m.\u001b[39;49mget_loc(key)\n\u001b[1;32m   3506\u001b[0m \u001b[39mif\u001b[39;00m is_integer(indexer):\n\u001b[1;32m   3507\u001b[0m     indexer \u001b[39m=\u001b[39m [indexer]\n",
      "File \u001b[0;32m/home/user/anaconda3/envs/ts/lib/python3.8/site-packages/pandas/core/indexes/base.py:3623\u001b[0m, in \u001b[0;36mIndex.get_loc\u001b[0;34m(self, key, method, tolerance)\u001b[0m\n\u001b[1;32m   3621\u001b[0m     \u001b[39mreturn\u001b[39;00m \u001b[39mself\u001b[39m\u001b[39m.\u001b[39m_engine\u001b[39m.\u001b[39mget_loc(casted_key)\n\u001b[1;32m   3622\u001b[0m \u001b[39mexcept\u001b[39;00m \u001b[39mKeyError\u001b[39;00m \u001b[39mas\u001b[39;00m err:\n\u001b[0;32m-> 3623\u001b[0m     \u001b[39mraise\u001b[39;00m \u001b[39mKeyError\u001b[39;00m(key) \u001b[39mfrom\u001b[39;00m \u001b[39merr\u001b[39;00m\n\u001b[1;32m   3624\u001b[0m \u001b[39mexcept\u001b[39;00m \u001b[39mTypeError\u001b[39;00m:\n\u001b[1;32m   3625\u001b[0m     \u001b[39m# If we have a listlike key, _check_indexing_error will raise\u001b[39;00m\n\u001b[1;32m   3626\u001b[0m     \u001b[39m#  InvalidIndexError. Otherwise we fall through and re-raise\u001b[39;00m\n\u001b[1;32m   3627\u001b[0m     \u001b[39m#  the TypeError.\u001b[39;00m\n\u001b[1;32m   3628\u001b[0m     \u001b[39mself\u001b[39m\u001b[39m.\u001b[39m_check_indexing_error(key)\n",
      "\u001b[0;31mKeyError\u001b[0m: 'p_component_1'"
     ]
    },
    {
     "data": {
      "image/png": "[encoded data removed]",
      "text/plain": [
       "<Figure size 576x576 with 1 Axes>"
      ]
     },
     "metadata": {
      "needs_background": "light"
     },
     "output_type": "display_data"
    }
   ],
   "source": [
    "import matplotlib.pyplot as plt\n",
    "\n",
    "fig = plt.figure(figsize = (8, 8))\n",
    "ax = fig.add_subplot(1, 1, 1)\n",
    "ax.set_xlabel('principal_component_1', fontsize = 15)\n",
    "ax.set_ylabel('principal_component_2', fontsize = 15)\n",
    "ax.set_title('Bank 2D PCA', fontsize=20)\n",
    "\n",
    "labels = [0, 1, 2]\n",
    "colors = ['r', 'g', 'b']\n",
    "for label, color in zip(labels, colors):\n",
    "    label_idx = scaled_bank_info_df['label'] == label\n",
    "    ax.scatter(\n",
    "        principal_df.loc[label_idx, 'principal_component_1'],\n",
    "        principal_df.loc[label_idx, 'principal_component_2'],\n",
    "        c = color,\n",
    "        s = 50\n",
    "        )\n",
    "ax.legend(labels)\n",
    "ax.grid()"
   ]
  },
  {
   "cell_type": "code",
   "execution_count": 153,
   "metadata": {},
   "outputs": [
    {
     "data": {
      "application/vnd.plotly.v1+json": {
       "config": {
        "plotlyServerURL": "https://plot.ly"
       },
       "data": [
        {
         "hovertemplate": "p_component_1=%{x}<br>p_component_2=%{y}<br>p_component_3=%{z}<br>color=%{marker.color}<extra></extra>",
         "legendgroup": "",
         "marker": {
          "color": [
           1,
           1,
           0,
           2,
           0,
           1,
           1,
           2,
           2,
           1,
           1,
           0,
           0,
           1,
           1,
           2,
           1,
           2,
           1,
           2,
           0,
           1,
           1,
           0,
           0,
           0,
           1,
           0,
           2,
           1,
           0,
           1,
           1,
           1,
           0,
           1,
           0,
           1,
           1,
           1,
           1,
           0,
           0,
           0,
           2,
           0,
           1,
           1,
           1,
           0,
           2,
           0,
           0,
           0,
           0,
           1,
           1,
           2,
           0,
           1,
           1,
           1
          ],
          "coloraxis": "coloraxis",
          "symbol": "circle"
         },
         "mode": "markers",
         "name": "",
         "scene": "scene",
         "showlegend": false,
         "type": "scatter3d",
         "x": [
          -0.03035001615491157,
          -0.018956389028326383,
          -0.40890107627398226,
          0.41809257327023014,
          -0.0976720947488095,
          -0.4026282749020388,
          -0.1289057749994899,
          0.5547128170684026,
          0.9088418882601497,
          -0.0916027478690952,
          -0.2224915115172029,
          -0.20851061302615637,
          -0.47010530084890645,
          -0.1395265623296267,
          -0.17970841651080696,
          0.6731577611526858,
          -0.13672683001292593,
          0.5821347614218443,
          0.0037217689993114906,
          0.4640071957663658,
          0.05822622555292262,
          -0.20333017196112335,
          0.057082940336086296,
          -0.1375345470110711,
          -0.33752042139562627,
          -0.17255493591950818,
          0.13153823818619084,
          -0.5180103650267586,
          0.4612061617515191,
          -0.16332255244972546,
          -0.1651196056072647,
          -0.022232547158094862,
          0.13462200055051973,
          -0.1672329685493124,
          -0.3363829325230052,
          -0.13377772158396845,
          -0.648445705490027,
          -0.09125982497836861,
          0.214702636851427,
          0.25915753611411585,
          -0.17696674962893025,
          -0.1120292023873424,
          0.16384072606724873,
          -0.23556351186434876,
          0.8688032026957381,
          -0.1411958405214513,
          0.06521974215671975,
          0.11850966627630241,
          -0.2226092042911837,
          -0.13834376881543314,
          0.5713698693520041,
          -0.250477974379153,
          -0.20917719914790142,
          -0.6181063954349708,
          -0.06541159651405697,
          0.030972321255437092,
          0.028953481924324627,
          0.757658591267965,
          -0.009466234598800518,
          0.15450946319664127,
          -0.06918487801267269,
          0.2003008939982238
         ],
         "y": [
          0.0401918735371327,
          -0.23386446056443294,
          0.08283010077771541,
          -0.022236787859554453,
          0.09795460695427038,
          -0.29862529380029523,
          -0.36154615658819383,
          0.06686299387129133,
          0.11498187512709047,
          -0.2950753967908281,
          -0.3003934793022567,
          0.40728903124711485,
          0.01575551425496663,
          -0.004067801387200759,
          -0.36046928424807145,
          0.012769369870917723,
          -0.2710973815987703,
          -0.2077547629058644,
          -0.1814636863470292,
          0.31828111160147027,
          0.16181782516322218,
          -0.11869538693670949,
          -0.1828736587329135,
          0.06783384063218977,
          0.03860234131985383,
          0.5569943487463472,
          -0.08787268332043183,
          0.4756869048449053,
          -0.11648550822365697,
          -0.4546595714202739,
          0.13250233887689608,
          -0.44172723368743466,
          -0.38430828091570396,
          -0.21790085398001963,
          0.11587599183563178,
          0.02102680750895584,
          -0.10917970425359891,
          -0.10453651332955251,
          -0.16472618434533542,
          -0.2777131630966733,
          -0.11602672978103411,
          0.3233163081316033,
          0.6763639722827407,
          0.4288468736370137,
          0.15264003351601188,
          0.33110174361358813,
          -0.24262641012123856,
          -0.23997323431160478,
          -0.058172381263319174,
          0.15756382860437115,
          0.1019373928453899,
          0.27036913437735804,
          0.3241781087123883,
          0.12164752669297424,
          0.30732785338256763,
          -0.1723812619979391,
          -0.23011786111345717,
          0.27064220173691617,
          0.3250201823509562,
          0.08641315174500575,
          -0.16151812365918952,
          -0.18653595191627234
         ],
         "z": [
          -0.08242221367114305,
          -0.06981167183122645,
          0.2576065351344599,
          -0.11341966223917081,
          -0.11828281072557024,
          0.03698230712296376,
          -0.11895444719765255,
          -0.03982415624939884,
          0.05623990754946938,
          0.047888273170677016,
          0.18212058775472714,
          -0.039892904174778046,
          0.09888755200855857,
          0.1376438005651562,
          0.3302551479158709,
          0.5703251539618183,
          0.024311754524006503,
          0.047024557080905166,
          -0.12173938090504043,
          0.1065083756166823,
          -0.1380344446361557,
          -0.044808708141063996,
          -0.05526800747304049,
          -0.14473449544112996,
          0.14097354177794494,
          0.0028586689730612314,
          -0.2449180497398325,
          0.06295460713335455,
          -0.1177333215984029,
          0.0895282871764669,
          -0.08963968801019767,
          0.022255171336889017,
          -0.13287060984605287,
          0.31446692615482935,
          -0.028421701191280558,
          -0.2032588611491136,
          0.12076685384408199,
          -0.14091667504222272,
          0.10278789953381716,
          -0.1492230324917839,
          -0.04607655821511982,
          -0.036579151990587075,
          -0.16560375824486628,
          0.0025500397742305426,
          0.13188975848862464,
          -0.018060000152913525,
          -0.09774153717908925,
          -0.20714993805513454,
          -0.0944647749059424,
          0.16401682573028695,
          -0.08912668865877225,
          -0.09638984838382965,
          0.061480436960537184,
          -0.024282666841314235,
          0.027974427551466903,
          -0.08998792273938623,
          -0.19085678333666714,
          0.06462867349396306,
          0.2557964303228595,
          -0.25945142060154136,
          -0.02759050042039693,
          0.17681389082210525
         ]
        }
       ],
       "layout": {
        "autosize": false,
        "coloraxis": {
         "colorbar": {
          "title": {
           "text": "color"
          }
         },
         "colorscale": [
          [
           0,
           "#0d0887"
          ],
          [
           0.1111111111111111,
           "#46039f"
          ],
          [
           0.2222222222222222,
           "#7201a8"
          ],
          [
           0.3333333333333333,
           "#9c179e"
          ],
          [
           0.4444444444444444,
           "#bd3786"
          ],
          [
           0.5555555555555556,
           "#d8576b"
          ],
          [
           0.6666666666666666,
           "#ed7953"
          ],
          [
           0.7777777777777778,
           "#fb9f3a"
          ],
          [
           0.8888888888888888,
           "#fdca26"
          ],
          [
           1,
           "#f0f921"
          ]
         ]
        },
        "height": 800,
        "legend": {
         "tracegroupgap": 0
        },
        "scene": {
         "domain": {
          "x": [
           0,
           1
          ],
          "y": [
           0,
           1
          ]
         },
         "xaxis": {
          "title": {
           "text": "p_component_1"
          }
         },
         "yaxis": {
          "title": {
           "text": "p_component_2"
          }
         },
         "zaxis": {
          "title": {
           "text": "p_component_3"
          }
         }
        },
        "template": {
         "data": {
          "bar": [
           {
            "error_x": {
             "color": "#2a3f5f"
            },
            "error_y": {
             "color": "#2a3f5f"
            },
            "marker": {
             "line": {
              "color": "#E5ECF6",
              "width": 0.5
             },
             "pattern": {
              "fillmode": "overlay",
              "size": 10,
              "solidity": 0.2
             }
            },
            "type": "bar"
           }
          ],
          "barpolar": [
           {
            "marker": {
             "line": {
              "color": "#E5ECF6",
              "width": 0.5
             },
             "pattern": {
              "fillmode": "overlay",
              "size": 10,
              "solidity": 0.2
             }
            },
            "type": "barpolar"
           }
          ],
          "carpet": [
           {
            "aaxis": {
             "endlinecolor": "#2a3f5f",
             "gridcolor": "white",
             "linecolor": "white",
             "minorgridcolor": "white",
             "startlinecolor": "#2a3f5f"
            },
            "baxis": {
             "endlinecolor": "#2a3f5f",
             "gridcolor": "white",
             "linecolor": "white",
             "minorgridcolor": "white",
             "startlinecolor": "#2a3f5f"
            },
            "type": "carpet"
           }
          ],
          "choropleth": [
           {
            "colorbar": {
             "outlinewidth": 0,
             "ticks": ""
            },
            "type": "choropleth"
           }
          ],
          "contour": [
           {
            "colorbar": {
             "outlinewidth": 0,
             "ticks": ""
            },
            "colorscale": [
             [
              0,
              "#0d0887"
             ],
             [
              0.1111111111111111,
              "#46039f"
             ],
             [
              0.2222222222222222,
              "#7201a8"
             ],
             [
              0.3333333333333333,
              "#9c179e"
             ],
             [
              0.4444444444444444,
              "#bd3786"
             ],
             [
              0.5555555555555556,
              "#d8576b"
             ],
             [
              0.6666666666666666,
              "#ed7953"
             ],
             [
              0.7777777777777778,
              "#fb9f3a"
             ],
             [
              0.8888888888888888,
              "#fdca26"
             ],
             [
              1,
              "#f0f921"
             ]
            ],
            "type": "contour"
           }
          ],
          "contourcarpet": [
           {
            "colorbar": {
             "outlinewidth": 0,
             "ticks": ""
            },
            "type": "contourcarpet"
           }
          ],
          "heatmap": [
           {
            "colorbar": {
             "outlinewidth": 0,
             "ticks": ""
            },
            "colorscale": [
             [
              0,
              "#0d0887"
             ],
             [
              0.1111111111111111,
              "#46039f"
             ],
             [
              0.2222222222222222,
              "#7201a8"
             ],
             [
              0.3333333333333333,
              "#9c179e"
             ],
             [
              0.4444444444444444,
              "#bd3786"
             ],
             [
              0.5555555555555556,
              "#d8576b"
             ],
             [
              0.6666666666666666,
              "#ed7953"
             ],
             [
              0.7777777777777778,
              "#fb9f3a"
             ],
             [
              0.8888888888888888,
              "#fdca26"
             ],
             [
              1,
              "#f0f921"
             ]
            ],
            "type": "heatmap"
           }
          ],
          "heatmapgl": [
           {
            "colorbar": {
             "outlinewidth": 0,
             "ticks": ""
            },
            "colorscale": [
             [
              0,
              "#0d0887"
             ],
             [
              0.1111111111111111,
              "#46039f"
             ],
             [
              0.2222222222222222,
              "#7201a8"
             ],
             [
              0.3333333333333333,
              "#9c179e"
             ],
             [
              0.4444444444444444,
              "#bd3786"
             ],
             [
              0.5555555555555556,
              "#d8576b"
             ],
             [
              0.6666666666666666,
              "#ed7953"
             ],
             [
              0.7777777777777778,
              "#fb9f3a"
             ],
             [
              0.8888888888888888,
              "#fdca26"
             ],
             [
              1,
              "#f0f921"
             ]
            ],
            "type": "heatmapgl"
           }
          ],
          "histogram": [
           {
            "marker": {
             "pattern": {
              "fillmode": "overlay",
              "size": 10,
              "solidity": 0.2
             }
            },
            "type": "histogram"
           }
          ],
          "histogram2d": [
           {
            "colorbar": {
             "outlinewidth": 0,
             "ticks": ""
            },
            "colorscale": [
             [
              0,
              "#0d0887"
             ],
             [
              0.1111111111111111,
              "#46039f"
             ],
             [
              0.2222222222222222,
              "#7201a8"
             ],
             [
              0.3333333333333333,
              "#9c179e"
             ],
             [
              0.4444444444444444,
              "#bd3786"
             ],
             [
              0.5555555555555556,
              "#d8576b"
             ],
             [
              0.6666666666666666,
              "#ed7953"
             ],
             [
              0.7777777777777778,
              "#fb9f3a"
             ],
             [
              0.8888888888888888,
              "#fdca26"
             ],
             [
              1,
              "#f0f921"
             ]
            ],
            "type": "histogram2d"
           }
          ],
          "histogram2dcontour": [
           {
            "colorbar": {
             "outlinewidth": 0,
             "ticks": ""
            },
            "colorscale": [
             [
              0,
              "#0d0887"
             ],
             [
              0.1111111111111111,
              "#46039f"
             ],
             [
              0.2222222222222222,
              "#7201a8"
             ],
             [
              0.3333333333333333,
              "#9c179e"
             ],
             [
              0.4444444444444444,
              "#bd3786"
             ],
             [
              0.5555555555555556,
              "#d8576b"
             ],
             [
              0.6666666666666666,
              "#ed7953"
             ],
             [
              0.7777777777777778,
              "#fb9f3a"
             ],
             [
              0.8888888888888888,
              "#fdca26"
             ],
             [
              1,
              "#f0f921"
             ]
            ],
            "type": "histogram2dcontour"
           }
          ],
          "mesh3d": [
           {
            "colorbar": {
             "outlinewidth": 0,
             "ticks": ""
            },
            "type": "mesh3d"
           }
          ],
          "parcoords": [
           {
            "line": {
             "colorbar": {
              "outlinewidth": 0,
              "ticks": ""
             }
            },
            "type": "parcoords"
           }
          ],
          "pie": [
           {
            "automargin": true,
            "type": "pie"
           }
          ],
          "scatter": [
           {
            "fillpattern": {
             "fillmode": "overlay",
             "size": 10,
             "solidity": 0.2
            },
            "type": "scatter"
           }
          ],
          "scatter3d": [
           {
            "line": {
             "colorbar": {
              "outlinewidth": 0,
              "ticks": ""
             }
            },
            "marker": {
             "colorbar": {
              "outlinewidth": 0,
              "ticks": ""
             }
            },
            "type": "scatter3d"
           }
          ],
          "scattercarpet": [
           {
            "marker": {
             "colorbar": {
              "outlinewidth": 0,
              "ticks": ""
             }
            },
            "type": "scattercarpet"
           }
          ],
          "scattergeo": [
           {
            "marker": {
             "colorbar": {
              "outlinewidth": 0,
              "ticks": ""
             }
            },
            "type": "scattergeo"
           }
          ],
          "scattergl": [
           {
            "marker": {
             "colorbar": {
              "outlinewidth": 0,
              "ticks": ""
             }
            },
            "type": "scattergl"
           }
          ],
          "scattermapbox": [
           {
            "marker": {
             "colorbar": {
              "outlinewidth": 0,
              "ticks": ""
             }
            },
            "type": "scattermapbox"
           }
          ],
          "scatterpolar": [
           {
            "marker": {
             "colorbar": {
              "outlinewidth": 0,
              "ticks": ""
             }
            },
            "type": "scatterpolar"
           }
          ],
          "scatterpolargl": [
           {
            "marker": {
             "colorbar": {
              "outlinewidth": 0,
              "ticks": ""
             }
            },
            "type": "scatterpolargl"
           }
          ],
          "scatterternary": [
           {
            "marker": {
             "colorbar": {
              "outlinewidth": 0,
              "ticks": ""
             }
            },
            "type": "scatterternary"
           }
          ],
          "surface": [
           {
            "colorbar": {
             "outlinewidth": 0,
             "ticks": ""
            },
            "colorscale": [
             [
              0,
              "#0d0887"
             ],
             [
              0.1111111111111111,
              "#46039f"
             ],
             [
              0.2222222222222222,
              "#7201a8"
             ],
             [
              0.3333333333333333,
              "#9c179e"
             ],
             [
              0.4444444444444444,
              "#bd3786"
             ],
             [
              0.5555555555555556,
              "#d8576b"
             ],
             [
              0.6666666666666666,
              "#ed7953"
             ],
             [
              0.7777777777777778,
              "#fb9f3a"
             ],
             [
              0.8888888888888888,
              "#fdca26"
             ],
             [
              1,
              "#f0f921"
             ]
            ],
            "type": "surface"
           }
          ],
          "table": [
           {
            "cells": {
             "fill": {
              "color": "#EBF0F8"
             },
             "line": {
              "color": "white"
             }
            },
            "header": {
             "fill": {
              "color": "#C8D4E3"
             },
             "line": {
              "color": "white"
             }
            },
            "type": "table"
           }
          ]
         },
         "layout": {
          "annotationdefaults": {
           "arrowcolor": "#2a3f5f",
           "arrowhead": 0,
           "arrowwidth": 1
          },
          "autotypenumbers": "strict",
          "coloraxis": {
           "colorbar": {
            "outlinewidth": 0,
            "ticks": ""
           }
          },
          "colorscale": {
           "diverging": [
            [
             0,
             "#8e0152"
            ],
            [
             0.1,
             "#c51b7d"
            ],
            [
             0.2,
             "#de77ae"
            ],
            [
             0.3,
             "#f1b6da"
            ],
            [
             0.4,
             "#fde0ef"
            ],
            [
             0.5,
             "#f7f7f7"
            ],
            [
             0.6,
             "#e6f5d0"
            ],
            [
             0.7,
             "#b8e186"
            ],
            [
             0.8,
             "#7fbc41"
            ],
            [
             0.9,
             "#4d9221"
            ],
            [
             1,
             "#276419"
            ]
           ],
           "sequential": [
            [
             0,
             "#0d0887"
            ],
            [
             0.1111111111111111,
             "#46039f"
            ],
            [
             0.2222222222222222,
             "#7201a8"
            ],
            [
             0.3333333333333333,
             "#9c179e"
            ],
            [
             0.4444444444444444,
             "#bd3786"
            ],
            [
             0.5555555555555556,
             "#d8576b"
            ],
            [
             0.6666666666666666,
             "#ed7953"
            ],
            [
             0.7777777777777778,
             "#fb9f3a"
            ],
            [
             0.8888888888888888,
             "#fdca26"
            ],
            [
             1,
             "#f0f921"
            ]
           ],
           "sequentialminus": [
            [
             0,
             "#0d0887"
            ],
            [
             0.1111111111111111,
             "#46039f"
            ],
            [
             0.2222222222222222,
             "#7201a8"
            ],
            [
             0.3333333333333333,
             "#9c179e"
            ],
            [
             0.4444444444444444,
             "#bd3786"
            ],
            [
             0.5555555555555556,
             "#d8576b"
            ],
            [
             0.6666666666666666,
             "#ed7953"
            ],
            [
             0.7777777777777778,
             "#fb9f3a"
            ],
            [
             0.8888888888888888,
             "#fdca26"
            ],
            [
             1,
             "#f0f921"
            ]
           ]
          },
          "colorway": [
           "#636efa",
           "#EF553B",
           "#00cc96",
           "#ab63fa",
           "#FFA15A",
           "#19d3f3",
           "#FF6692",
           "#B6E880",
           "#FF97FF",
           "#FECB52"
          ],
          "font": {
           "color": "#2a3f5f"
          },
          "geo": {
           "bgcolor": "white",
           "lakecolor": "white",
           "landcolor": "#E5ECF6",
           "showlakes": true,
           "showland": true,
           "subunitcolor": "white"
          },
          "hoverlabel": {
           "align": "left"
          },
          "hovermode": "closest",
          "mapbox": {
           "style": "light"
          },
          "paper_bgcolor": "white",
          "plot_bgcolor": "#E5ECF6",
          "polar": {
           "angularaxis": {
            "gridcolor": "white",
            "linecolor": "white",
            "ticks": ""
           },
           "bgcolor": "#E5ECF6",
           "radialaxis": {
            "gridcolor": "white",
            "linecolor": "white",
            "ticks": ""
           }
          },
          "scene": {
           "xaxis": {
            "backgroundcolor": "#E5ECF6",
            "gridcolor": "white",
            "gridwidth": 2,
            "linecolor": "white",
            "showbackground": true,
            "ticks": "",
            "zerolinecolor": "white"
           },
           "yaxis": {
            "backgroundcolor": "#E5ECF6",
            "gridcolor": "white",
            "gridwidth": 2,
            "linecolor": "white",
            "showbackground": true,
            "ticks": "",
            "zerolinecolor": "white"
           },
           "zaxis": {
            "backgroundcolor": "#E5ECF6",
            "gridcolor": "white",
            "gridwidth": 2,
            "linecolor": "white",
            "showbackground": true,
            "ticks": "",
            "zerolinecolor": "white"
           }
          },
          "shapedefaults": {
           "line": {
            "color": "#2a3f5f"
           }
          },
          "ternary": {
           "aaxis": {
            "gridcolor": "white",
            "linecolor": "white",
            "ticks": ""
           },
           "baxis": {
            "gridcolor": "white",
            "linecolor": "white",
            "ticks": ""
           },
           "bgcolor": "#E5ECF6",
           "caxis": {
            "gridcolor": "white",
            "linecolor": "white",
            "ticks": ""
           }
          },
          "title": {
           "x": 0.05
          },
          "xaxis": {
           "automargin": true,
           "gridcolor": "white",
           "linecolor": "white",
           "ticks": "",
           "title": {
            "standoff": 15
           },
           "zerolinecolor": "white",
           "zerolinewidth": 2
          },
          "yaxis": {
           "automargin": true,
           "gridcolor": "white",
           "linecolor": "white",
           "ticks": "",
           "title": {
            "standoff": 15
           },
           "zerolinecolor": "white",
           "zerolinewidth": 2
          }
         }
        },
        "title": {
         "text": "Total Explained Variance: 93.89%"
        },
        "width": 1600
       }
      },
      "text/html": [
       "<div>                            <div id=\"9789099d-7865-4402-8eda-8fce57f7dfaf\" class=\"plotly-graph-div\" style=\"height:800px; width:1600px;\"></div>            <script type=\"text/javascript\">                require([\"plotly\"], function(Plotly) {                    window.PLOTLYENV=window.PLOTLYENV || {};                                    if (document.getElementById(\"9789099d-7865-4402-8eda-8fce57f7dfaf\")) {                    Plotly.newPlot(                        \"9789099d-7865-4402-8eda-8fce57f7dfaf\",                        [{\"hovertemplate\":\"p_component_1=%{x}<br>p_component_2=%{y}<br>p_component_3=%{z}<br>color=%{marker.color}<extra></extra>\",\"legendgroup\":\"\",\"marker\":{\"color\":[1,1,0,2,0,1,1,2,2,1,1,0,0,1,1,2,1,2,1,2,0,1,1,0,0,0,1,0,2,1,0,1,1,1,0,1,0,1,1,1,1,0,0,0,2,0,1,1,1,0,2,0,0,0,0,1,1,2,0,1,1,1],\"coloraxis\":\"coloraxis\",\"symbol\":\"circle\"},\"mode\":\"markers\",\"name\":\"\",\"scene\":\"scene\",\"showlegend\":false,\"x\":[-0.03035001615491157,-0.018956389028326383,-0.40890107627398226,0.41809257327023014,-0.0976720947488095,-0.4026282749020388,-0.1289057749994899,0.5547128170684026,0.9088418882601497,-0.0916027478690952,-0.2224915115172029,-0.20851061302615637,-0.47010530084890645,-0.1395265623296267,-0.17970841651080696,0.6731577611526858,-0.13672683001292593,0.5821347614218443,0.0037217689993114906,0.4640071957663658,0.05822622555292262,-0.20333017196112335,0.057082940336086296,-0.1375345470110711,-0.33752042139562627,-0.17255493591950818,0.13153823818619084,-0.5180103650267586,0.4612061617515191,-0.16332255244972546,-0.1651196056072647,-0.022232547158094862,0.13462200055051973,-0.1672329685493124,-0.3363829325230052,-0.13377772158396845,-0.648445705490027,-0.09125982497836861,0.214702636851427,0.25915753611411585,-0.17696674962893025,-0.1120292023873424,0.16384072606724873,-0.23556351186434876,0.8688032026957381,-0.1411958405214513,0.06521974215671975,0.11850966627630241,-0.2226092042911837,-0.13834376881543314,0.5713698693520041,-0.250477974379153,-0.20917719914790142,-0.6181063954349708,-0.06541159651405697,0.030972321255437092,0.028953481924324627,0.757658591267965,-0.009466234598800518,0.15450946319664127,-0.06918487801267269,0.2003008939982238],\"y\":[0.0401918735371327,-0.23386446056443294,0.08283010077771541,-0.022236787859554453,0.09795460695427038,-0.29862529380029523,-0.36154615658819383,0.06686299387129133,0.11498187512709047,-0.2950753967908281,-0.3003934793022567,0.40728903124711485,0.01575551425496663,-0.004067801387200759,-0.36046928424807145,0.012769369870917723,-0.2710973815987703,-0.2077547629058644,-0.1814636863470292,0.31828111160147027,0.16181782516322218,-0.11869538693670949,-0.1828736587329135,0.06783384063218977,0.03860234131985383,0.5569943487463472,-0.08787268332043183,0.4756869048449053,-0.11648550822365697,-0.4546595714202739,0.13250233887689608,-0.44172723368743466,-0.38430828091570396,-0.21790085398001963,0.11587599183563178,0.02102680750895584,-0.10917970425359891,-0.10453651332955251,-0.16472618434533542,-0.2777131630966733,-0.11602672978103411,0.3233163081316033,0.6763639722827407,0.4288468736370137,0.15264003351601188,0.33110174361358813,-0.24262641012123856,-0.23997323431160478,-0.058172381263319174,0.15756382860437115,0.1019373928453899,0.27036913437735804,0.3241781087123883,0.12164752669297424,0.30732785338256763,-0.1723812619979391,-0.23011786111345717,0.27064220173691617,0.3250201823509562,0.08641315174500575,-0.16151812365918952,-0.18653595191627234],\"z\":[-0.08242221367114305,-0.06981167183122645,0.2576065351344599,-0.11341966223917081,-0.11828281072557024,0.03698230712296376,-0.11895444719765255,-0.03982415624939884,0.05623990754946938,0.047888273170677016,0.18212058775472714,-0.039892904174778046,0.09888755200855857,0.1376438005651562,0.3302551479158709,0.5703251539618183,0.024311754524006503,0.047024557080905166,-0.12173938090504043,0.1065083756166823,-0.1380344446361557,-0.044808708141063996,-0.05526800747304049,-0.14473449544112996,0.14097354177794494,0.0028586689730612314,-0.2449180497398325,0.06295460713335455,-0.1177333215984029,0.0895282871764669,-0.08963968801019767,0.022255171336889017,-0.13287060984605287,0.31446692615482935,-0.028421701191280558,-0.2032588611491136,0.12076685384408199,-0.14091667504222272,0.10278789953381716,-0.1492230324917839,-0.04607655821511982,-0.036579151990587075,-0.16560375824486628,0.0025500397742305426,0.13188975848862464,-0.018060000152913525,-0.09774153717908925,-0.20714993805513454,-0.0944647749059424,0.16401682573028695,-0.08912668865877225,-0.09638984838382965,0.061480436960537184,-0.024282666841314235,0.027974427551466903,-0.08998792273938623,-0.19085678333666714,0.06462867349396306,0.2557964303228595,-0.25945142060154136,-0.02759050042039693,0.17681389082210525],\"type\":\"scatter3d\"}],                        {\"template\":{\"data\":{\"histogram2dcontour\":[{\"type\":\"histogram2dcontour\",\"colorbar\":{\"outlinewidth\":0,\"ticks\":\"\"},\"colorscale\":[[0.0,\"#0d0887\"],[0.1111111111111111,\"#46039f\"],[0.2222222222222222,\"#7201a8\"],[0.3333333333333333,\"#9c179e\"],[0.4444444444444444,\"#bd3786\"],[0.5555555555555556,\"#d8576b\"],[0.6666666666666666,\"#ed7953\"],[0.7777777777777778,\"#fb9f3a\"],[0.8888888888888888,\"#fdca26\"],[1.0,\"#f0f921\"]]}],\"choropleth\":[{\"type\":\"choropleth\",\"colorbar\":{\"outlinewidth\":0,\"ticks\":\"\"}}],\"histogram2d\":[{\"type\":\"histogram2d\",\"colorbar\":{\"outlinewidth\":0,\"ticks\":\"\"},\"colorscale\":[[0.0,\"#0d0887\"],[0.1111111111111111,\"#46039f\"],[0.2222222222222222,\"#7201a8\"],[0.3333333333333333,\"#9c179e\"],[0.4444444444444444,\"#bd3786\"],[0.5555555555555556,\"#d8576b\"],[0.6666666666666666,\"#ed7953\"],[0.7777777777777778,\"#fb9f3a\"],[0.8888888888888888,\"#fdca26\"],[1.0,\"#f0f921\"]]}],\"heatmap\":[{\"type\":\"heatmap\",\"colorbar\":{\"outlinewidth\":0,\"ticks\":\"\"},\"colorscale\":[[0.0,\"#0d0887\"],[0.1111111111111111,\"#46039f\"],[0.2222222222222222,\"#7201a8\"],[0.3333333333333333,\"#9c179e\"],[0.4444444444444444,\"#bd3786\"],[0.5555555555555556,\"#d8576b\"],[0.6666666666666666,\"#ed7953\"],[0.7777777777777778,\"#fb9f3a\"],[0.8888888888888888,\"#fdca26\"],[1.0,\"#f0f921\"]]}],\"heatmapgl\":[{\"type\":\"heatmapgl\",\"colorbar\":{\"outlinewidth\":0,\"ticks\":\"\"},\"colorscale\":[[0.0,\"#0d0887\"],[0.1111111111111111,\"#46039f\"],[0.2222222222222222,\"#7201a8\"],[0.3333333333333333,\"#9c179e\"],[0.4444444444444444,\"#bd3786\"],[0.5555555555555556,\"#d8576b\"],[0.6666666666666666,\"#ed7953\"],[0.7777777777777778,\"#fb9f3a\"],[0.8888888888888888,\"#fdca26\"],[1.0,\"#f0f921\"]]}],\"contourcarpet\":[{\"type\":\"contourcarpet\",\"colorbar\":{\"outlinewidth\":0,\"ticks\":\"\"}}],\"contour\":[{\"type\":\"contour\",\"colorbar\":{\"outlinewidth\":0,\"ticks\":\"\"},\"colorscale\":[[0.0,\"#0d0887\"],[0.1111111111111111,\"#46039f\"],[0.2222222222222222,\"#7201a8\"],[0.3333333333333333,\"#9c179e\"],[0.4444444444444444,\"#bd3786\"],[0.5555555555555556,\"#d8576b\"],[0.6666666666666666,\"#ed7953\"],[0.7777777777777778,\"#fb9f3a\"],[0.8888888888888888,\"#fdca26\"],[1.0,\"#f0f921\"]]}],\"surface\":[{\"type\":\"surface\",\"colorbar\":{\"outlinewidth\":0,\"ticks\":\"\"},\"colorscale\":[[0.0,\"#0d0887\"],[0.1111111111111111,\"#46039f\"],[0.2222222222222222,\"#7201a8\"],[0.3333333333333333,\"#9c179e\"],[0.4444444444444444,\"#bd3786\"],[0.5555555555555556,\"#d8576b\"],[0.6666666666666666,\"#ed7953\"],[0.7777777777777778,\"#fb9f3a\"],[0.8888888888888888,\"#fdca26\"],[1.0,\"#f0f921\"]]}],\"mesh3d\":[{\"type\":\"mesh3d\",\"colorbar\":{\"outlinewidth\":0,\"ticks\":\"\"}}],\"scatter\":[{\"fillpattern\":{\"fillmode\":\"overlay\",\"size\":10,\"solidity\":0.2},\"type\":\"scatter\"}],\"parcoords\":[{\"type\":\"parcoords\",\"line\":{\"colorbar\":{\"outlinewidth\":0,\"ticks\":\"\"}}}],\"scatterpolargl\":[{\"type\":\"scatterpolargl\",\"marker\":{\"colorbar\":{\"outlinewidth\":0,\"ticks\":\"\"}}}],\"bar\":[{\"error_x\":{\"color\":\"#2a3f5f\"},\"error_y\":{\"color\":\"#2a3f5f\"},\"marker\":{\"line\":{\"color\":\"#E5ECF6\",\"width\":0.5},\"pattern\":{\"fillmode\":\"overlay\",\"size\":10,\"solidity\":0.2}},\"type\":\"bar\"}],\"scattergeo\":[{\"type\":\"scattergeo\",\"marker\":{\"colorbar\":{\"outlinewidth\":0,\"ticks\":\"\"}}}],\"scatterpolar\":[{\"type\":\"scatterpolar\",\"marker\":{\"colorbar\":{\"outlinewidth\":0,\"ticks\":\"\"}}}],\"histogram\":[{\"marker\":{\"pattern\":{\"fillmode\":\"overlay\",\"size\":10,\"solidity\":0.2}},\"type\":\"histogram\"}],\"scattergl\":[{\"type\":\"scattergl\",\"marker\":{\"colorbar\":{\"outlinewidth\":0,\"ticks\":\"\"}}}],\"scatter3d\":[{\"type\":\"scatter3d\",\"line\":{\"colorbar\":{\"outlinewidth\":0,\"ticks\":\"\"}},\"marker\":{\"colorbar\":{\"outlinewidth\":0,\"ticks\":\"\"}}}],\"scattermapbox\":[{\"type\":\"scattermapbox\",\"marker\":{\"colorbar\":{\"outlinewidth\":0,\"ticks\":\"\"}}}],\"scatterternary\":[{\"type\":\"scatterternary\",\"marker\":{\"colorbar\":{\"outlinewidth\":0,\"ticks\":\"\"}}}],\"scattercarpet\":[{\"type\":\"scattercarpet\",\"marker\":{\"colorbar\":{\"outlinewidth\":0,\"ticks\":\"\"}}}],\"carpet\":[{\"aaxis\":{\"endlinecolor\":\"#2a3f5f\",\"gridcolor\":\"white\",\"linecolor\":\"white\",\"minorgridcolor\":\"white\",\"startlinecolor\":\"#2a3f5f\"},\"baxis\":{\"endlinecolor\":\"#2a3f5f\",\"gridcolor\":\"white\",\"linecolor\":\"white\",\"minorgridcolor\":\"white\",\"startlinecolor\":\"#2a3f5f\"},\"type\":\"carpet\"}],\"table\":[{\"cells\":{\"fill\":{\"color\":\"#EBF0F8\"},\"line\":{\"color\":\"white\"}},\"header\":{\"fill\":{\"color\":\"#C8D4E3\"},\"line\":{\"color\":\"white\"}},\"type\":\"table\"}],\"barpolar\":[{\"marker\":{\"line\":{\"color\":\"#E5ECF6\",\"width\":0.5},\"pattern\":{\"fillmode\":\"overlay\",\"size\":10,\"solidity\":0.2}},\"type\":\"barpolar\"}],\"pie\":[{\"automargin\":true,\"type\":\"pie\"}]},\"layout\":{\"autotypenumbers\":\"strict\",\"colorway\":[\"#636efa\",\"#EF553B\",\"#00cc96\",\"#ab63fa\",\"#FFA15A\",\"#19d3f3\",\"#FF6692\",\"#B6E880\",\"#FF97FF\",\"#FECB52\"],\"font\":{\"color\":\"#2a3f5f\"},\"hovermode\":\"closest\",\"hoverlabel\":{\"align\":\"left\"},\"paper_bgcolor\":\"white\",\"plot_bgcolor\":\"#E5ECF6\",\"polar\":{\"bgcolor\":\"#E5ECF6\",\"angularaxis\":{\"gridcolor\":\"white\",\"linecolor\":\"white\",\"ticks\":\"\"},\"radialaxis\":{\"gridcolor\":\"white\",\"linecolor\":\"white\",\"ticks\":\"\"}},\"ternary\":{\"bgcolor\":\"#E5ECF6\",\"aaxis\":{\"gridcolor\":\"white\",\"linecolor\":\"white\",\"ticks\":\"\"},\"baxis\":{\"gridcolor\":\"white\",\"linecolor\":\"white\",\"ticks\":\"\"},\"caxis\":{\"gridcolor\":\"white\",\"linecolor\":\"white\",\"ticks\":\"\"}},\"coloraxis\":{\"colorbar\":{\"outlinewidth\":0,\"ticks\":\"\"}},\"colorscale\":{\"sequential\":[[0.0,\"#0d0887\"],[0.1111111111111111,\"#46039f\"],[0.2222222222222222,\"#7201a8\"],[0.3333333333333333,\"#9c179e\"],[0.4444444444444444,\"#bd3786\"],[0.5555555555555556,\"#d8576b\"],[0.6666666666666666,\"#ed7953\"],[0.7777777777777778,\"#fb9f3a\"],[0.8888888888888888,\"#fdca26\"],[1.0,\"#f0f921\"]],\"sequentialminus\":[[0.0,\"#0d0887\"],[0.1111111111111111,\"#46039f\"],[0.2222222222222222,\"#7201a8\"],[0.3333333333333333,\"#9c179e\"],[0.4444444444444444,\"#bd3786\"],[0.5555555555555556,\"#d8576b\"],[0.6666666666666666,\"#ed7953\"],[0.7777777777777778,\"#fb9f3a\"],[0.8888888888888888,\"#fdca26\"],[1.0,\"#f0f921\"]],\"diverging\":[[0,\"#8e0152\"],[0.1,\"#c51b7d\"],[0.2,\"#de77ae\"],[0.3,\"#f1b6da\"],[0.4,\"#fde0ef\"],[0.5,\"#f7f7f7\"],[0.6,\"#e6f5d0\"],[0.7,\"#b8e186\"],[0.8,\"#7fbc41\"],[0.9,\"#4d9221\"],[1,\"#276419\"]]},\"xaxis\":{\"gridcolor\":\"white\",\"linecolor\":\"white\",\"ticks\":\"\",\"title\":{\"standoff\":15},\"zerolinecolor\":\"white\",\"automargin\":true,\"zerolinewidth\":2},\"yaxis\":{\"gridcolor\":\"white\",\"linecolor\":\"white\",\"ticks\":\"\",\"title\":{\"standoff\":15},\"zerolinecolor\":\"white\",\"automargin\":true,\"zerolinewidth\":2},\"scene\":{\"xaxis\":{\"backgroundcolor\":\"#E5ECF6\",\"gridcolor\":\"white\",\"linecolor\":\"white\",\"showbackground\":true,\"ticks\":\"\",\"zerolinecolor\":\"white\",\"gridwidth\":2},\"yaxis\":{\"backgroundcolor\":\"#E5ECF6\",\"gridcolor\":\"white\",\"linecolor\":\"white\",\"showbackground\":true,\"ticks\":\"\",\"zerolinecolor\":\"white\",\"gridwidth\":2},\"zaxis\":{\"backgroundcolor\":\"#E5ECF6\",\"gridcolor\":\"white\",\"linecolor\":\"white\",\"showbackground\":true,\"ticks\":\"\",\"zerolinecolor\":\"white\",\"gridwidth\":2}},\"shapedefaults\":{\"line\":{\"color\":\"#2a3f5f\"}},\"annotationdefaults\":{\"arrowcolor\":\"#2a3f5f\",\"arrowhead\":0,\"arrowwidth\":1},\"geo\":{\"bgcolor\":\"white\",\"landcolor\":\"#E5ECF6\",\"subunitcolor\":\"white\",\"showland\":true,\"showlakes\":true,\"lakecolor\":\"white\"},\"title\":{\"x\":0.05},\"mapbox\":{\"style\":\"light\"}}},\"scene\":{\"domain\":{\"x\":[0.0,1.0],\"y\":[0.0,1.0]},\"xaxis\":{\"title\":{\"text\":\"p_component_1\"}},\"yaxis\":{\"title\":{\"text\":\"p_component_2\"}},\"zaxis\":{\"title\":{\"text\":\"p_component_3\"}}},\"coloraxis\":{\"colorbar\":{\"title\":{\"text\":\"color\"}},\"colorscale\":[[0.0,\"#0d0887\"],[0.1111111111111111,\"#46039f\"],[0.2222222222222222,\"#7201a8\"],[0.3333333333333333,\"#9c179e\"],[0.4444444444444444,\"#bd3786\"],[0.5555555555555556,\"#d8576b\"],[0.6666666666666666,\"#ed7953\"],[0.7777777777777778,\"#fb9f3a\"],[0.8888888888888888,\"#fdca26\"],[1.0,\"#f0f921\"]]},\"legend\":{\"tracegroupgap\":0},\"title\":{\"text\":\"Total Explained Variance: 93.89%\"},\"autosize\":false,\"width\":1600,\"height\":800},                        {\"responsive\": true}                    ).then(function(){\n",
       "                            \n",
       "var gd = document.getElementById('9789099d-7865-4402-8eda-8fce57f7dfaf');\n",
       "var x = new MutationObserver(function (mutations, observer) {{\n",
       "        var display = window.getComputedStyle(gd).display;\n",
       "        if (!display || display === 'none') {{\n",
       "            console.log([gd, 'removed!']);\n",
       "            Plotly.purge(gd);\n",
       "            observer.disconnect();\n",
       "        }}\n",
       "}});\n",
       "\n",
       "// Listen for the removal of the full notebook cells\n",
       "var notebookContainer = gd.closest('#notebook-container');\n",
       "if (notebookContainer) {{\n",
       "    x.observe(notebookContainer, {childList: true});\n",
       "}}\n",
       "\n",
       "// Listen for the clearing of the current output cell\n",
       "var outputEl = gd.closest('.output');\n",
       "if (outputEl) {{\n",
       "    x.observe(outputEl, {childList: true});\n",
       "}}\n",
       "\n",
       "                        })                };                });            </script>        </div>"
      ]
     },
     "metadata": {},
     "output_type": "display_data"
    }
   ],
   "source": [
    "import plotly.express as px\n",
    "from sklearn.decomposition import PCA\n",
    "\n",
    "X = pca_input_df\n",
    "\n",
    "pca = PCA(n_components=3)\n",
    "components = pca.fit_transform(X)\n",
    "\n",
    "total_var = pca.explained_variance_ratio_.sum() * 100\n",
    "\n",
    "fig = px.scatter_3d(\n",
    "    components, x=0, y=1, z=2, color=scaled_bank_info_df['label'],\n",
    "    title=f'Total Explained Variance: {total_var:.2f}%',\n",
    "    labels={'0': 'p_component_1', '1': 'p_component_2', '2': 'p_component_3'}\n",
    ")\n",
    "\n",
    "fig.update_layout(\n",
    "    autosize=False,\n",
    "    width=1600,\n",
    "    height=800\n",
    ")\n",
    "\n",
    "fig.show()"
   ]
  },
  {
   "cell_type": "code",
   "execution_count": 155,
   "metadata": {},
   "outputs": [],
   "source": [
    "eigen_value = pca.explained_variance_\n",
    "explained_variance_ratio = pca.explained_variance_ratio_"
   ]
  },
  {
   "cell_type": "code",
   "execution_count": 156,
   "metadata": {},
   "outputs": [
    {
     "data": {
      "text/plain": [
       "array([0.11475347, 0.06710088, 0.02315142])"
      ]
     },
     "execution_count": 156,
     "metadata": {},
     "output_type": "execute_result"
    }
   ],
   "source": [
    "eigen_value"
   ]
  },
  {
   "cell_type": "code",
   "execution_count": 157,
   "metadata": {},
   "outputs": [
    {
     "data": {
      "text/plain": [
       "array([0.52557022, 0.30732162, 0.10603337])"
      ]
     },
     "execution_count": 157,
     "metadata": {},
     "output_type": "execute_result"
    }
   ],
   "source": [
    "explained_variance_ratio"
   ]
  },
  {
   "cell_type": "markdown",
   "metadata": {},
   "source": [
    "## 검증 후 각 군집별 은행의 특징 찾기"
   ]
  },
  {
   "cell_type": "code",
   "execution_count": 91,
   "metadata": {},
   "outputs": [
    {
     "data": {
      "text/html": [
       "<div>\n",
       "<style scoped>\n",
       "    .dataframe tbody tr th:only-of-type {\n",
       "        vertical-align: middle;\n",
       "    }\n",
       "\n",
       "    .dataframe tbody tr th {\n",
       "        vertical-align: top;\n",
       "    }\n",
       "\n",
       "    .dataframe thead th {\n",
       "        text-align: right;\n",
       "    }\n",
       "</style>\n",
       "<table border=\"1\" class=\"dataframe\">\n",
       "  <thead>\n",
       "    <tr style=\"text-align: right;\">\n",
       "      <th></th>\n",
       "      <th>bank_id</th>\n",
       "      <th>avg_credit_score</th>\n",
       "      <th>avg_existing_loan_amt</th>\n",
       "      <th>avg_loan_rate_per_cofix_rate</th>\n",
       "      <th>label</th>\n",
       "    </tr>\n",
       "  </thead>\n",
       "  <tbody>\n",
       "    <tr>\n",
       "      <th>0</th>\n",
       "      <td>1.0</td>\n",
       "      <td>743.933257</td>\n",
       "      <td>8.683993e+07</td>\n",
       "      <td>7.380155</td>\n",
       "      <td>1</td>\n",
       "    </tr>\n",
       "    <tr>\n",
       "      <th>1</th>\n",
       "      <td>2.0</td>\n",
       "      <td>714.998620</td>\n",
       "      <td>7.118824e+07</td>\n",
       "      <td>7.541129</td>\n",
       "      <td>0</td>\n",
       "    </tr>\n",
       "    <tr>\n",
       "      <th>2</th>\n",
       "      <td>3.0</td>\n",
       "      <td>791.334890</td>\n",
       "      <td>9.035253e+07</td>\n",
       "      <td>10.168660</td>\n",
       "      <td>1</td>\n",
       "    </tr>\n",
       "    <tr>\n",
       "      <th>3</th>\n",
       "      <td>4.0</td>\n",
       "      <td>766.043331</td>\n",
       "      <td>7.442532e+07</td>\n",
       "      <td>5.014361</td>\n",
       "      <td>2</td>\n",
       "    </tr>\n",
       "    <tr>\n",
       "      <th>4</th>\n",
       "      <td>5.0</td>\n",
       "      <td>737.082047</td>\n",
       "      <td>9.252637e+07</td>\n",
       "      <td>7.590807</td>\n",
       "      <td>1</td>\n",
       "    </tr>\n",
       "    <tr>\n",
       "      <th>...</th>\n",
       "      <td>...</td>\n",
       "      <td>...</td>\n",
       "      <td>...</td>\n",
       "      <td>...</td>\n",
       "      <td>...</td>\n",
       "    </tr>\n",
       "    <tr>\n",
       "      <th>57</th>\n",
       "      <td>60.0</td>\n",
       "      <td>865.707609</td>\n",
       "      <td>8.008077e+07</td>\n",
       "      <td>3.341117</td>\n",
       "      <td>2</td>\n",
       "    </tr>\n",
       "    <tr>\n",
       "      <th>58</th>\n",
       "      <td>61.0</td>\n",
       "      <td>850.068579</td>\n",
       "      <td>9.623212e+07</td>\n",
       "      <td>7.828299</td>\n",
       "      <td>1</td>\n",
       "    </tr>\n",
       "    <tr>\n",
       "      <th>59</th>\n",
       "      <td>62.0</td>\n",
       "      <td>725.575838</td>\n",
       "      <td>8.949509e+07</td>\n",
       "      <td>5.915886</td>\n",
       "      <td>1</td>\n",
       "    </tr>\n",
       "    <tr>\n",
       "      <th>60</th>\n",
       "      <td>63.0</td>\n",
       "      <td>730.605173</td>\n",
       "      <td>7.432051e+07</td>\n",
       "      <td>7.913262</td>\n",
       "      <td>0</td>\n",
       "    </tr>\n",
       "    <tr>\n",
       "      <th>61</th>\n",
       "      <td>64.0</td>\n",
       "      <td>794.261365</td>\n",
       "      <td>6.241544e+07</td>\n",
       "      <td>7.017953</td>\n",
       "      <td>0</td>\n",
       "    </tr>\n",
       "  </tbody>\n",
       "</table>\n",
       "<p>62 rows × 5 columns</p>\n",
       "</div>"
      ],
      "text/plain": [
       "    bank_id  avg_credit_score  avg_existing_loan_amt  \\\n",
       "0       1.0        743.933257           8.683993e+07   \n",
       "1       2.0        714.998620           7.118824e+07   \n",
       "2       3.0        791.334890           9.035253e+07   \n",
       "3       4.0        766.043331           7.442532e+07   \n",
       "4       5.0        737.082047           9.252637e+07   \n",
       "..      ...               ...                    ...   \n",
       "57     60.0        865.707609           8.008077e+07   \n",
       "58     61.0        850.068579           9.623212e+07   \n",
       "59     62.0        725.575838           8.949509e+07   \n",
       "60     63.0        730.605173           7.432051e+07   \n",
       "61     64.0        794.261365           6.241544e+07   \n",
       "\n",
       "    avg_loan_rate_per_cofix_rate  label  \n",
       "0                       7.380155      1  \n",
       "1                       7.541129      0  \n",
       "2                      10.168660      1  \n",
       "3                       5.014361      2  \n",
       "4                       7.590807      1  \n",
       "..                           ...    ...  \n",
       "57                      3.341117      2  \n",
       "58                      7.828299      1  \n",
       "59                      5.915886      1  \n",
       "60                      7.913262      0  \n",
       "61                      7.017953      0  \n",
       "\n",
       "[62 rows x 5 columns]"
      ]
     },
     "execution_count": 91,
     "metadata": {},
     "output_type": "execute_result"
    }
   ],
   "source": [
    "bank_info_df['label'] = cluster_labels\n",
    "bank_info_df"
   ]
  },
  {
   "cell_type": "code",
   "execution_count": 95,
   "metadata": {},
   "outputs": [
    {
     "name": "stdout",
     "output_type": "stream",
     "text": [
      "✅ Bank 0 mean info\n",
      "\t ◽ avg_credit_score : 726.47\n",
      "\t ◽ avg_existing_loan_amt : 69037068.50\n",
      "\t ◽ avg_loan_rate_per_cofix_rate : 7.85\n",
      "✅ Bank 1 mean info\n",
      "\t ◽ avg_credit_score : 765.38\n",
      "\t ◽ avg_existing_loan_amt : 99183183.64\n",
      "\t ◽ avg_loan_rate_per_cofix_rate : 8.30\n",
      "✅ Bank 2 mean info\n",
      "\t ◽ avg_credit_score : 831.65\n",
      "\t ◽ avg_existing_loan_amt : 71206672.68\n",
      "\t ◽ avg_loan_rate_per_cofix_rate : 4.26\n"
     ]
    }
   ],
   "source": [
    "for label, label_df in bank_info_df.groupby('label'):\n",
    "    print(f'✅ Bank {label} mean info')\n",
    "    #print(f'\\t ◽ num_applied_loan : {label_df.num_applied_loan.mean():.2f}')\n",
    "    #print(f'\\t ◽ num_product : {label_df.num_product.mean():.2f}')\n",
    "    #print(f'\\t ◽ avg_loan_rate : {label_df.avg_loan_rate.mean():.2f}')\n",
    "    #print(f'\\t ◽ avg_cofix_rate : {label_df.avg_cofix_rate.mean():.2f}')\n",
    "    print(f'\\t ◽ avg_credit_score : {label_df.avg_credit_score.mean():.2f}')\n",
    "    print(f'\\t ◽ avg_existing_loan_amt : {label_df.avg_existing_loan_amt.mean():.2f}')\n",
    "    print(f'\\t ◽ avg_loan_rate_per_cofix_rate : {label_df.avg_loan_rate_per_cofix_rate.mean():.2f}')"
   ]
  },
  {
   "cell_type": "code",
   "execution_count": 128,
   "metadata": {},
   "outputs": [
    {
     "data": {
      "text/plain": [
       "array([[<AxesSubplot:title={'center':'0'}>,\n",
       "        <AxesSubplot:title={'center':'1'}>],\n",
       "       [<AxesSubplot:title={'center':'2'}>, <AxesSubplot:>]], dtype=object)"
      ]
     },
     "execution_count": 128,
     "metadata": {},
     "output_type": "execute_result"
    },
    {
     "data": {
      "image/png": "[encoded data removed]",
      "text/plain": [
       "<Figure size 720x432 with 4 Axes>"
      ]
     },
     "metadata": {
      "needs_background": "light"
     },
     "output_type": "display_data"
    }
   ],
   "source": [
    "bank_info_df.hist(\n",
    "    figsize=(10, 6),\n",
    "    column='avg_credit_score',\n",
    "    by='label',\n",
    "    legend=True,\n",
    "    range=(650,980)\n",
    "    )"
   ]
  }
 ],
 "metadata": {
  "kernelspec": {
   "display_name": "Python 3.8.0 ('ts')",
   "language": "python",
   "name": "python3"
  },
  "language_info": {
   "codemirror_mode": {
    "name": "ipython",
    "version": 3
   },
   "file_extension": ".py",
   "mimetype": "text/x-python",
   "name": "python",
   "nbconvert_exporter": "python",
   "pygments_lexer": "ipython3",
   "version": "3.8.0"
  },
  "orig_nbformat": 4,
  "vscode": {
   "interpreter": {
    "hash": "905dfa79643c880850347768effc72abc6a1cb6e2332879eab4dbd4b353af98a"
   }
  }
 },
 "nbformat": 4,
 "nbformat_minor": 2
}
